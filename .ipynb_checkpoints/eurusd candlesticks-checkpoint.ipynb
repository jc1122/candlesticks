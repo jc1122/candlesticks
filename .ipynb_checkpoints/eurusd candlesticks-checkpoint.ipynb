{
 "cells": [
  {
   "cell_type": "markdown",
   "metadata": {},
   "source": [
    "# EURUSD simple candlestick cluster trading system"
   ]
  },
  {
   "cell_type": "markdown",
   "metadata": {},
   "source": [
    "### TODO: finish making the documentation!!! Then continue with the project\n",
    "1. [Import data](#Import-data)\n",
    "1. [Prepare data](#Prepare-data)\n",
    "1. [Filtering](#Filtering)\n",
    "    1. [Calculate body to shadow ratio](#Candlestick-body-to-shadow-ratio)\n",
    "    1. [Find hours during the day, which give max body to shadow ratio](#Find-max-body-to-shadow-ratio)\n",
    "    1. [Produce daily candlesticks with max body to shadow ratio](#Make-daily-candlesticks)\n",
    "    1. Plot filtered daily candlesticks\n",
    "    1. Statistics of filtered data\n",
    "1. Preprocessing for clustering (add labels if next close is higher/lower than current)\n",
    "1. Clustering:\n",
    "    1. 1 candle formations\n",
    "        1. Preprocessing\n",
    "        1. Clustering on a train set and t test for means on train set\n",
    "        1. Cluster statistics and t test for means on train set\n",
    "        1. Select clusters with the same means for test and train and means != 0 and make a simple trading strategy\n",
    "    2. 2 candle formations (procedure like for 1 candle formations)\n",
    "    3. 3 candle formations (procedure like for 1 candle formations)\n",
    "\n",
    "Generalize for all forex majors."
   ]
  },
  {
   "cell_type": "markdown",
   "metadata": {},
   "source": [
    "-----------------\n",
    "## Import data\n",
    "\n",
    "Import hourly data from CSV and prepare time series."
   ]
  },
  {
   "cell_type": "code",
   "execution_count": 1,
   "metadata": {
    "scrolled": true
   },
   "outputs": [
    {
     "data": {
      "text/html": [
       "<div>\n",
       "<style scoped>\n",
       "    .dataframe tbody tr th:only-of-type {\n",
       "        vertical-align: middle;\n",
       "    }\n",
       "\n",
       "    .dataframe tbody tr th {\n",
       "        vertical-align: top;\n",
       "    }\n",
       "\n",
       "    .dataframe thead th {\n",
       "        text-align: right;\n",
       "    }\n",
       "</style>\n",
       "<table border=\"1\" class=\"dataframe\">\n",
       "  <thead>\n",
       "    <tr style=\"text-align: right;\">\n",
       "      <th></th>\n",
       "      <th>Open</th>\n",
       "      <th>High</th>\n",
       "      <th>Low</th>\n",
       "      <th>Close</th>\n",
       "      <th>Volume</th>\n",
       "      <th>DateTime</th>\n",
       "    </tr>\n",
       "  </thead>\n",
       "  <tbody>\n",
       "    <tr>\n",
       "      <th>0</th>\n",
       "      <td>1.3808</td>\n",
       "      <td>1.3809</td>\n",
       "      <td>1.3791</td>\n",
       "      <td>1.3793</td>\n",
       "      <td>174</td>\n",
       "      <td>2007-07-19 03:00:00</td>\n",
       "    </tr>\n",
       "    <tr>\n",
       "      <th>1</th>\n",
       "      <td>1.3794</td>\n",
       "      <td>1.3800</td>\n",
       "      <td>1.3793</td>\n",
       "      <td>1.3796</td>\n",
       "      <td>99</td>\n",
       "      <td>2007-07-19 04:00:00</td>\n",
       "    </tr>\n",
       "    <tr>\n",
       "      <th>2</th>\n",
       "      <td>1.3795</td>\n",
       "      <td>1.3804</td>\n",
       "      <td>1.3795</td>\n",
       "      <td>1.3799</td>\n",
       "      <td>99</td>\n",
       "      <td>2007-07-19 05:00:00</td>\n",
       "    </tr>\n",
       "    <tr>\n",
       "      <th>3</th>\n",
       "      <td>1.3798</td>\n",
       "      <td>1.3800</td>\n",
       "      <td>1.3793</td>\n",
       "      <td>1.3795</td>\n",
       "      <td>104</td>\n",
       "      <td>2007-07-19 06:00:00</td>\n",
       "    </tr>\n",
       "    <tr>\n",
       "      <th>4</th>\n",
       "      <td>1.3793</td>\n",
       "      <td>1.3797</td>\n",
       "      <td>1.3785</td>\n",
       "      <td>1.3789</td>\n",
       "      <td>142</td>\n",
       "      <td>2007-07-19 07:00:00</td>\n",
       "    </tr>\n",
       "  </tbody>\n",
       "</table>\n",
       "</div>"
      ],
      "text/plain": [
       "     Open    High     Low   Close  Volume            DateTime\n",
       "0  1.3808  1.3809  1.3791  1.3793     174 2007-07-19 03:00:00\n",
       "1  1.3794  1.3800  1.3793  1.3796      99 2007-07-19 04:00:00\n",
       "2  1.3795  1.3804  1.3795  1.3799      99 2007-07-19 05:00:00\n",
       "3  1.3798  1.3800  1.3793  1.3795     104 2007-07-19 06:00:00\n",
       "4  1.3793  1.3797  1.3785  1.3789     142 2007-07-19 07:00:00"
      ]
     },
     "execution_count": 1,
     "metadata": {},
     "output_type": "execute_result"
    }
   ],
   "source": [
    "import pandas as pd\n",
    "# import data from Metatrader file\n",
    "hourly_df = pd.read_csv(\"EURUSD60.csv\",\n",
    "                        names=[\"Date\",\"Time\",\"Open\",\"High\",\"Low\",\"Close\",\"Volume\"],\n",
    "                       )\n",
    "hourly_df['DateTime'] = pd.to_datetime(hourly_df['Date']\n",
    "                                       + ' ' + hourly_df['Time']) #join separate columns date + time and convert to datetime\n",
    "hourly_df.drop(columns=['Date', 'Time'], inplace=True) # drop redundant columns\n",
    "hourly_df.head()"
   ]
  },
  {
   "cell_type": "markdown",
   "metadata": {},
   "source": [
    "-------------------\n",
    "## Prepare data\n",
    "\n",
    "Separate each day as an index."
   ]
  },
  {
   "cell_type": "code",
   "execution_count": 2,
   "metadata": {
    "scrolled": true
   },
   "outputs": [
    {
     "data": {
      "text/html": [
       "<div>\n",
       "<style scoped>\n",
       "    .dataframe tbody tr th:only-of-type {\n",
       "        vertical-align: middle;\n",
       "    }\n",
       "\n",
       "    .dataframe tbody tr th {\n",
       "        vertical-align: top;\n",
       "    }\n",
       "\n",
       "    .dataframe thead th {\n",
       "        text-align: right;\n",
       "    }\n",
       "</style>\n",
       "<table border=\"1\" class=\"dataframe\">\n",
       "  <thead>\n",
       "    <tr style=\"text-align: right;\">\n",
       "      <th></th>\n",
       "      <th></th>\n",
       "      <th>Open</th>\n",
       "      <th>High</th>\n",
       "      <th>Low</th>\n",
       "      <th>Close</th>\n",
       "      <th>Volume</th>\n",
       "    </tr>\n",
       "    <tr>\n",
       "      <th>Date</th>\n",
       "      <th>Time</th>\n",
       "      <th></th>\n",
       "      <th></th>\n",
       "      <th></th>\n",
       "      <th></th>\n",
       "      <th></th>\n",
       "    </tr>\n",
       "  </thead>\n",
       "  <tbody>\n",
       "    <tr>\n",
       "      <th rowspan=\"5\" valign=\"top\">2007-07-19</th>\n",
       "      <th>03:00:00</th>\n",
       "      <td>1.3808</td>\n",
       "      <td>1.3809</td>\n",
       "      <td>1.3791</td>\n",
       "      <td>1.3793</td>\n",
       "      <td>174</td>\n",
       "    </tr>\n",
       "    <tr>\n",
       "      <th>04:00:00</th>\n",
       "      <td>1.3794</td>\n",
       "      <td>1.3800</td>\n",
       "      <td>1.3793</td>\n",
       "      <td>1.3796</td>\n",
       "      <td>99</td>\n",
       "    </tr>\n",
       "    <tr>\n",
       "      <th>05:00:00</th>\n",
       "      <td>1.3795</td>\n",
       "      <td>1.3804</td>\n",
       "      <td>1.3795</td>\n",
       "      <td>1.3799</td>\n",
       "      <td>99</td>\n",
       "    </tr>\n",
       "    <tr>\n",
       "      <th>06:00:00</th>\n",
       "      <td>1.3798</td>\n",
       "      <td>1.3800</td>\n",
       "      <td>1.3793</td>\n",
       "      <td>1.3795</td>\n",
       "      <td>104</td>\n",
       "    </tr>\n",
       "    <tr>\n",
       "      <th>07:00:00</th>\n",
       "      <td>1.3793</td>\n",
       "      <td>1.3797</td>\n",
       "      <td>1.3785</td>\n",
       "      <td>1.3789</td>\n",
       "      <td>142</td>\n",
       "    </tr>\n",
       "  </tbody>\n",
       "</table>\n",
       "</div>"
      ],
      "text/plain": [
       "                       Open    High     Low   Close  Volume\n",
       "Date       Time                                            \n",
       "2007-07-19 03:00:00  1.3808  1.3809  1.3791  1.3793     174\n",
       "           04:00:00  1.3794  1.3800  1.3793  1.3796      99\n",
       "           05:00:00  1.3795  1.3804  1.3795  1.3799      99\n",
       "           06:00:00  1.3798  1.3800  1.3793  1.3795     104\n",
       "           07:00:00  1.3793  1.3797  1.3785  1.3789     142"
      ]
     },
     "execution_count": 2,
     "metadata": {},
     "output_type": "execute_result"
    }
   ],
   "source": [
    "# recreate date and time and make multiindex\n",
    "hourly_df['Date'] = hourly_df['DateTime'].apply(lambda x: x.date()) # extract date fom Timestamp\n",
    "hourly_df['Time'] = hourly_df['DateTime'].apply(lambda x: x.time()) # extract time from Timestamp\n",
    "hourly_df.set_index(['Date','Time'],inplace=True) # create multiindex\n",
    "hourly_df.drop(columns=['DateTime'], inplace=True) # drop redundant column\n",
    "hourly_df.head()\n",
    "#hourly_df = hourly_df[:pd.to_datetime('2014')]"
   ]
  },
  {
   "cell_type": "markdown",
   "metadata": {},
   "source": [
    "-----------------\n",
    "## Filtering"
   ]
  },
  {
   "cell_type": "markdown",
   "metadata": {},
   "source": [
    "### Candlestick body to shadow ratio"
   ]
  },
  {
   "cell_type": "markdown",
   "metadata": {},
   "source": [
    "The function below calculates body to shadow ratio. If start of day time > end of day time, return nan."
   ]
  },
  {
   "cell_type": "code",
   "execution_count": 80,
   "metadata": {
    "scrolled": true
   },
   "outputs": [],
   "source": [
    "# this function calculates the body to candlestick ratio and returns NaN if high == low\n",
    "import numpy as np\n",
    "def candlestick(extreme_time1, extreme_time2, day_df):\n",
    "    \"\"\"Calculate the daily body to shadow ratio calculated from hourly data and return as a float.\n",
    "    Returns np.nan if extreme_time1 > extreme_time2 or any of the times is not an index of day_df.\n",
    "    \n",
    "    Keywords:\n",
    "    extreme_time1 - datetime.time time of open\n",
    "    extreme_time1 - datetime.time time of close\n",
    "    day_df - dataframe indexed with datetime.time, containing 'Open', 'High', 'Low', 'Close' columns\n",
    "    \n",
    "    Returns:\n",
    "    float value of body to shadow ratio\n",
    "    \"\"\"\n",
    "    day_df.reset_index(level=0,drop=True,inplace=True)\n",
    "    if (extreme_time1 in day_df.index) and (extreme_time2 in day_df.index) and (extreme_time1 < extreme_time2):\n",
    "        open_value = day_df.loc[extreme_time1,'Open']\n",
    "        close_value = day_df.loc[extreme_time2,'Close']\n",
    "        low_value = day_df.loc[extreme_time1:extreme_time2,'Low'].min()\n",
    "        high_value = day_df.loc[extreme_time1:extreme_time2,'High'].max()\n",
    "        return abs(open_value - close_value)/(high_value - low_value)\n",
    "    return np.nan"
   ]
  },
  {
   "cell_type": "markdown",
   "metadata": {},
   "source": [
    "Test the function:"
   ]
  },
  {
   "cell_type": "code",
   "execution_count": 4,
   "metadata": {
    "scrolled": true
   },
   "outputs": [
    {
     "name": "stdout",
     "output_type": "stream",
     "text": [
      "Body to shadow ratio is: 0.4535893408905956\n"
     ]
    }
   ],
   "source": [
    "# the below fragment of code needs to be wrapped to a function and then optimizer applied\n",
    "# the output from the optimizer should be a dataframe to generate a heatmap\n",
    "time1 = pd.to_datetime('8:00:00').time()\n",
    "time2 = pd.to_datetime('12:00:00').time()\n",
    "ratio = hourly_df.groupby('Date').apply(lambda day: candlestick(time1, time2, day)).mean()\n",
    "print('Body to shadow ratio is: ' +str(ratio))\n",
    "\n",
    "# -----------------\n",
    "#now to the grouped dataframe, apply the function described above to get the result as another column, then sum that column\n",
    "#then apply an optimizer to maximize the sum"
   ]
  },
  {
   "cell_type": "markdown",
   "metadata": {},
   "source": [
    "## Find max body to shadow ratio"
   ]
  },
  {
   "cell_type": "markdown",
   "metadata": {},
   "source": [
    "Prepare data for heatmap of extreme times vs body to shadow ratio:"
   ]
  },
  {
   "cell_type": "code",
   "execution_count": 82,
   "metadata": {},
   "outputs": [
    {
     "data": {
      "text/html": [
       "<div>\n",
       "<style scoped>\n",
       "    .dataframe tbody tr th:only-of-type {\n",
       "        vertical-align: middle;\n",
       "    }\n",
       "\n",
       "    .dataframe tbody tr th {\n",
       "        vertical-align: top;\n",
       "    }\n",
       "\n",
       "    .dataframe thead th {\n",
       "        text-align: right;\n",
       "    }\n",
       "</style>\n",
       "<table border=\"1\" class=\"dataframe\">\n",
       "  <thead>\n",
       "    <tr style=\"text-align: right;\">\n",
       "      <th></th>\n",
       "      <th>00:00:00</th>\n",
       "      <th>01:00:00</th>\n",
       "      <th>02:00:00</th>\n",
       "      <th>03:00:00</th>\n",
       "      <th>04:00:00</th>\n",
       "      <th>05:00:00</th>\n",
       "      <th>06:00:00</th>\n",
       "      <th>07:00:00</th>\n",
       "      <th>08:00:00</th>\n",
       "      <th>09:00:00</th>\n",
       "      <th>...</th>\n",
       "      <th>14:00:00</th>\n",
       "      <th>15:00:00</th>\n",
       "      <th>16:00:00</th>\n",
       "      <th>17:00:00</th>\n",
       "      <th>18:00:00</th>\n",
       "      <th>19:00:00</th>\n",
       "      <th>20:00:00</th>\n",
       "      <th>21:00:00</th>\n",
       "      <th>22:00:00</th>\n",
       "      <th>23:00:00</th>\n",
       "    </tr>\n",
       "  </thead>\n",
       "  <tbody>\n",
       "    <tr>\n",
       "      <th>00:00:00</th>\n",
       "      <td>(00:00:00, 00:00:00)</td>\n",
       "      <td>(01:00:00, 00:00:00)</td>\n",
       "      <td>(02:00:00, 00:00:00)</td>\n",
       "      <td>(03:00:00, 00:00:00)</td>\n",
       "      <td>(04:00:00, 00:00:00)</td>\n",
       "      <td>(05:00:00, 00:00:00)</td>\n",
       "      <td>(06:00:00, 00:00:00)</td>\n",
       "      <td>(07:00:00, 00:00:00)</td>\n",
       "      <td>(08:00:00, 00:00:00)</td>\n",
       "      <td>(09:00:00, 00:00:00)</td>\n",
       "      <td>...</td>\n",
       "      <td>(14:00:00, 00:00:00)</td>\n",
       "      <td>(15:00:00, 00:00:00)</td>\n",
       "      <td>(16:00:00, 00:00:00)</td>\n",
       "      <td>(17:00:00, 00:00:00)</td>\n",
       "      <td>(18:00:00, 00:00:00)</td>\n",
       "      <td>(19:00:00, 00:00:00)</td>\n",
       "      <td>(20:00:00, 00:00:00)</td>\n",
       "      <td>(21:00:00, 00:00:00)</td>\n",
       "      <td>(22:00:00, 00:00:00)</td>\n",
       "      <td>(23:00:00, 00:00:00)</td>\n",
       "    </tr>\n",
       "    <tr>\n",
       "      <th>01:00:00</th>\n",
       "      <td>(00:00:00, 01:00:00)</td>\n",
       "      <td>(01:00:00, 01:00:00)</td>\n",
       "      <td>(02:00:00, 01:00:00)</td>\n",
       "      <td>(03:00:00, 01:00:00)</td>\n",
       "      <td>(04:00:00, 01:00:00)</td>\n",
       "      <td>(05:00:00, 01:00:00)</td>\n",
       "      <td>(06:00:00, 01:00:00)</td>\n",
       "      <td>(07:00:00, 01:00:00)</td>\n",
       "      <td>(08:00:00, 01:00:00)</td>\n",
       "      <td>(09:00:00, 01:00:00)</td>\n",
       "      <td>...</td>\n",
       "      <td>(14:00:00, 01:00:00)</td>\n",
       "      <td>(15:00:00, 01:00:00)</td>\n",
       "      <td>(16:00:00, 01:00:00)</td>\n",
       "      <td>(17:00:00, 01:00:00)</td>\n",
       "      <td>(18:00:00, 01:00:00)</td>\n",
       "      <td>(19:00:00, 01:00:00)</td>\n",
       "      <td>(20:00:00, 01:00:00)</td>\n",
       "      <td>(21:00:00, 01:00:00)</td>\n",
       "      <td>(22:00:00, 01:00:00)</td>\n",
       "      <td>(23:00:00, 01:00:00)</td>\n",
       "    </tr>\n",
       "    <tr>\n",
       "      <th>02:00:00</th>\n",
       "      <td>(00:00:00, 02:00:00)</td>\n",
       "      <td>(01:00:00, 02:00:00)</td>\n",
       "      <td>(02:00:00, 02:00:00)</td>\n",
       "      <td>(03:00:00, 02:00:00)</td>\n",
       "      <td>(04:00:00, 02:00:00)</td>\n",
       "      <td>(05:00:00, 02:00:00)</td>\n",
       "      <td>(06:00:00, 02:00:00)</td>\n",
       "      <td>(07:00:00, 02:00:00)</td>\n",
       "      <td>(08:00:00, 02:00:00)</td>\n",
       "      <td>(09:00:00, 02:00:00)</td>\n",
       "      <td>...</td>\n",
       "      <td>(14:00:00, 02:00:00)</td>\n",
       "      <td>(15:00:00, 02:00:00)</td>\n",
       "      <td>(16:00:00, 02:00:00)</td>\n",
       "      <td>(17:00:00, 02:00:00)</td>\n",
       "      <td>(18:00:00, 02:00:00)</td>\n",
       "      <td>(19:00:00, 02:00:00)</td>\n",
       "      <td>(20:00:00, 02:00:00)</td>\n",
       "      <td>(21:00:00, 02:00:00)</td>\n",
       "      <td>(22:00:00, 02:00:00)</td>\n",
       "      <td>(23:00:00, 02:00:00)</td>\n",
       "    </tr>\n",
       "    <tr>\n",
       "      <th>03:00:00</th>\n",
       "      <td>(00:00:00, 03:00:00)</td>\n",
       "      <td>(01:00:00, 03:00:00)</td>\n",
       "      <td>(02:00:00, 03:00:00)</td>\n",
       "      <td>(03:00:00, 03:00:00)</td>\n",
       "      <td>(04:00:00, 03:00:00)</td>\n",
       "      <td>(05:00:00, 03:00:00)</td>\n",
       "      <td>(06:00:00, 03:00:00)</td>\n",
       "      <td>(07:00:00, 03:00:00)</td>\n",
       "      <td>(08:00:00, 03:00:00)</td>\n",
       "      <td>(09:00:00, 03:00:00)</td>\n",
       "      <td>...</td>\n",
       "      <td>(14:00:00, 03:00:00)</td>\n",
       "      <td>(15:00:00, 03:00:00)</td>\n",
       "      <td>(16:00:00, 03:00:00)</td>\n",
       "      <td>(17:00:00, 03:00:00)</td>\n",
       "      <td>(18:00:00, 03:00:00)</td>\n",
       "      <td>(19:00:00, 03:00:00)</td>\n",
       "      <td>(20:00:00, 03:00:00)</td>\n",
       "      <td>(21:00:00, 03:00:00)</td>\n",
       "      <td>(22:00:00, 03:00:00)</td>\n",
       "      <td>(23:00:00, 03:00:00)</td>\n",
       "    </tr>\n",
       "    <tr>\n",
       "      <th>04:00:00</th>\n",
       "      <td>(00:00:00, 04:00:00)</td>\n",
       "      <td>(01:00:00, 04:00:00)</td>\n",
       "      <td>(02:00:00, 04:00:00)</td>\n",
       "      <td>(03:00:00, 04:00:00)</td>\n",
       "      <td>(04:00:00, 04:00:00)</td>\n",
       "      <td>(05:00:00, 04:00:00)</td>\n",
       "      <td>(06:00:00, 04:00:00)</td>\n",
       "      <td>(07:00:00, 04:00:00)</td>\n",
       "      <td>(08:00:00, 04:00:00)</td>\n",
       "      <td>(09:00:00, 04:00:00)</td>\n",
       "      <td>...</td>\n",
       "      <td>(14:00:00, 04:00:00)</td>\n",
       "      <td>(15:00:00, 04:00:00)</td>\n",
       "      <td>(16:00:00, 04:00:00)</td>\n",
       "      <td>(17:00:00, 04:00:00)</td>\n",
       "      <td>(18:00:00, 04:00:00)</td>\n",
       "      <td>(19:00:00, 04:00:00)</td>\n",
       "      <td>(20:00:00, 04:00:00)</td>\n",
       "      <td>(21:00:00, 04:00:00)</td>\n",
       "      <td>(22:00:00, 04:00:00)</td>\n",
       "      <td>(23:00:00, 04:00:00)</td>\n",
       "    </tr>\n",
       "  </tbody>\n",
       "</table>\n",
       "<p>5 rows × 24 columns</p>\n",
       "</div>"
      ],
      "text/plain": [
       "                      00:00:00              01:00:00              02:00:00  \\\n",
       "00:00:00  (00:00:00, 00:00:00)  (01:00:00, 00:00:00)  (02:00:00, 00:00:00)   \n",
       "01:00:00  (00:00:00, 01:00:00)  (01:00:00, 01:00:00)  (02:00:00, 01:00:00)   \n",
       "02:00:00  (00:00:00, 02:00:00)  (01:00:00, 02:00:00)  (02:00:00, 02:00:00)   \n",
       "03:00:00  (00:00:00, 03:00:00)  (01:00:00, 03:00:00)  (02:00:00, 03:00:00)   \n",
       "04:00:00  (00:00:00, 04:00:00)  (01:00:00, 04:00:00)  (02:00:00, 04:00:00)   \n",
       "\n",
       "                      03:00:00              04:00:00              05:00:00  \\\n",
       "00:00:00  (03:00:00, 00:00:00)  (04:00:00, 00:00:00)  (05:00:00, 00:00:00)   \n",
       "01:00:00  (03:00:00, 01:00:00)  (04:00:00, 01:00:00)  (05:00:00, 01:00:00)   \n",
       "02:00:00  (03:00:00, 02:00:00)  (04:00:00, 02:00:00)  (05:00:00, 02:00:00)   \n",
       "03:00:00  (03:00:00, 03:00:00)  (04:00:00, 03:00:00)  (05:00:00, 03:00:00)   \n",
       "04:00:00  (03:00:00, 04:00:00)  (04:00:00, 04:00:00)  (05:00:00, 04:00:00)   \n",
       "\n",
       "                      06:00:00              07:00:00              08:00:00  \\\n",
       "00:00:00  (06:00:00, 00:00:00)  (07:00:00, 00:00:00)  (08:00:00, 00:00:00)   \n",
       "01:00:00  (06:00:00, 01:00:00)  (07:00:00, 01:00:00)  (08:00:00, 01:00:00)   \n",
       "02:00:00  (06:00:00, 02:00:00)  (07:00:00, 02:00:00)  (08:00:00, 02:00:00)   \n",
       "03:00:00  (06:00:00, 03:00:00)  (07:00:00, 03:00:00)  (08:00:00, 03:00:00)   \n",
       "04:00:00  (06:00:00, 04:00:00)  (07:00:00, 04:00:00)  (08:00:00, 04:00:00)   \n",
       "\n",
       "                      09:00:00          ...                       14:00:00  \\\n",
       "00:00:00  (09:00:00, 00:00:00)          ...           (14:00:00, 00:00:00)   \n",
       "01:00:00  (09:00:00, 01:00:00)          ...           (14:00:00, 01:00:00)   \n",
       "02:00:00  (09:00:00, 02:00:00)          ...           (14:00:00, 02:00:00)   \n",
       "03:00:00  (09:00:00, 03:00:00)          ...           (14:00:00, 03:00:00)   \n",
       "04:00:00  (09:00:00, 04:00:00)          ...           (14:00:00, 04:00:00)   \n",
       "\n",
       "                      15:00:00              16:00:00              17:00:00  \\\n",
       "00:00:00  (15:00:00, 00:00:00)  (16:00:00, 00:00:00)  (17:00:00, 00:00:00)   \n",
       "01:00:00  (15:00:00, 01:00:00)  (16:00:00, 01:00:00)  (17:00:00, 01:00:00)   \n",
       "02:00:00  (15:00:00, 02:00:00)  (16:00:00, 02:00:00)  (17:00:00, 02:00:00)   \n",
       "03:00:00  (15:00:00, 03:00:00)  (16:00:00, 03:00:00)  (17:00:00, 03:00:00)   \n",
       "04:00:00  (15:00:00, 04:00:00)  (16:00:00, 04:00:00)  (17:00:00, 04:00:00)   \n",
       "\n",
       "                      18:00:00              19:00:00              20:00:00  \\\n",
       "00:00:00  (18:00:00, 00:00:00)  (19:00:00, 00:00:00)  (20:00:00, 00:00:00)   \n",
       "01:00:00  (18:00:00, 01:00:00)  (19:00:00, 01:00:00)  (20:00:00, 01:00:00)   \n",
       "02:00:00  (18:00:00, 02:00:00)  (19:00:00, 02:00:00)  (20:00:00, 02:00:00)   \n",
       "03:00:00  (18:00:00, 03:00:00)  (19:00:00, 03:00:00)  (20:00:00, 03:00:00)   \n",
       "04:00:00  (18:00:00, 04:00:00)  (19:00:00, 04:00:00)  (20:00:00, 04:00:00)   \n",
       "\n",
       "                      21:00:00              22:00:00              23:00:00  \n",
       "00:00:00  (21:00:00, 00:00:00)  (22:00:00, 00:00:00)  (23:00:00, 00:00:00)  \n",
       "01:00:00  (21:00:00, 01:00:00)  (22:00:00, 01:00:00)  (23:00:00, 01:00:00)  \n",
       "02:00:00  (21:00:00, 02:00:00)  (22:00:00, 02:00:00)  (23:00:00, 02:00:00)  \n",
       "03:00:00  (21:00:00, 03:00:00)  (22:00:00, 03:00:00)  (23:00:00, 03:00:00)  \n",
       "04:00:00  (21:00:00, 04:00:00)  (22:00:00, 04:00:00)  (23:00:00, 04:00:00)  \n",
       "\n",
       "[5 rows x 24 columns]"
      ]
     },
     "execution_count": 82,
     "metadata": {},
     "output_type": "execute_result"
    }
   ],
   "source": [
    "#generate a list of extreme hours:\n",
    "hours = pd.date_range(\"0:00\", \"23:00\", freq=\"60min\").time\n",
    "#generate a dataframe to plot a heatmap from extreme hours, the cella of the df will contain tuples of extreme time:\n",
    "extreme_time_df = pd.DataFrame(index=hours, columns=hours, data = [[(x,y) for x in hours] for y in hours])\n",
    "extreme_time_df.head()"
   ]
  },
  {
   "cell_type": "markdown",
   "metadata": {},
   "source": [
    "The function below calculates the body to shadow ratio on hourly_df, given a tuple of 2 extreme times:"
   ]
  },
  {
   "cell_type": "code",
   "execution_count": 5,
   "metadata": {},
   "outputs": [],
   "source": [
    "def dataframe_candlestick_wrapper(extreme_time_tuple):\n",
    "    print (extreme_time_tuple)\n",
    "    if (extreme_time_tuple[0] < extreme_time_tuple[1]):\n",
    "        return hourly_df.groupby('Date').apply(lambda day: candlestick(extreme_time_tuple[0], extreme_time_tuple[1], day)).mean()\n",
    "    return np.nan"
   ]
  },
  {
   "cell_type": "markdown",
   "metadata": {},
   "source": [
    "The calculation of body to shadow ratio for all given times is time consuming, uncomment the cell below to make a fresh calculation:"
   ]
  },
  {
   "cell_type": "code",
   "execution_count": 7,
   "metadata": {},
   "outputs": [],
   "source": [
    "#Calculate the data:\n",
    "#extreme_time_df= extreme_time_df.applymap(dataframe_candlestick_wrapper)\n",
    "\n",
    "#Save the data (uncomment to save):\n",
    "#extreme_time_df.to_csv('bodyToShadowratio.csv')"
   ]
  },
  {
   "cell_type": "markdown",
   "metadata": {},
   "source": [
    "If you have the precalculated data stored in a csv, use the cell below to read it."
   ]
  },
  {
   "cell_type": "code",
   "execution_count": 83,
   "metadata": {},
   "outputs": [
    {
     "data": {
      "text/html": [
       "<div>\n",
       "<style scoped>\n",
       "    .dataframe tbody tr th:only-of-type {\n",
       "        vertical-align: middle;\n",
       "    }\n",
       "\n",
       "    .dataframe tbody tr th {\n",
       "        vertical-align: top;\n",
       "    }\n",
       "\n",
       "    .dataframe thead th {\n",
       "        text-align: right;\n",
       "    }\n",
       "</style>\n",
       "<table border=\"1\" class=\"dataframe\">\n",
       "  <thead>\n",
       "    <tr style=\"text-align: right;\">\n",
       "      <th></th>\n",
       "      <th>00:00:00</th>\n",
       "      <th>01:00:00</th>\n",
       "      <th>02:00:00</th>\n",
       "      <th>03:00:00</th>\n",
       "      <th>04:00:00</th>\n",
       "      <th>05:00:00</th>\n",
       "      <th>06:00:00</th>\n",
       "      <th>07:00:00</th>\n",
       "      <th>08:00:00</th>\n",
       "      <th>09:00:00</th>\n",
       "      <th>...</th>\n",
       "      <th>14:00:00</th>\n",
       "      <th>15:00:00</th>\n",
       "      <th>16:00:00</th>\n",
       "      <th>17:00:00</th>\n",
       "      <th>18:00:00</th>\n",
       "      <th>19:00:00</th>\n",
       "      <th>20:00:00</th>\n",
       "      <th>21:00:00</th>\n",
       "      <th>22:00:00</th>\n",
       "      <th>23:00:00</th>\n",
       "    </tr>\n",
       "    <tr>\n",
       "      <th>Unnamed: 0</th>\n",
       "      <th></th>\n",
       "      <th></th>\n",
       "      <th></th>\n",
       "      <th></th>\n",
       "      <th></th>\n",
       "      <th></th>\n",
       "      <th></th>\n",
       "      <th></th>\n",
       "      <th></th>\n",
       "      <th></th>\n",
       "      <th></th>\n",
       "      <th></th>\n",
       "      <th></th>\n",
       "      <th></th>\n",
       "      <th></th>\n",
       "      <th></th>\n",
       "      <th></th>\n",
       "      <th></th>\n",
       "      <th></th>\n",
       "      <th></th>\n",
       "      <th></th>\n",
       "    </tr>\n",
       "  </thead>\n",
       "  <tbody>\n",
       "    <tr>\n",
       "      <th>00:00:00</th>\n",
       "      <td>NaN</td>\n",
       "      <td>NaN</td>\n",
       "      <td>NaN</td>\n",
       "      <td>NaN</td>\n",
       "      <td>NaN</td>\n",
       "      <td>NaN</td>\n",
       "      <td>NaN</td>\n",
       "      <td>NaN</td>\n",
       "      <td>NaN</td>\n",
       "      <td>NaN</td>\n",
       "      <td>...</td>\n",
       "      <td>NaN</td>\n",
       "      <td>NaN</td>\n",
       "      <td>NaN</td>\n",
       "      <td>NaN</td>\n",
       "      <td>NaN</td>\n",
       "      <td>NaN</td>\n",
       "      <td>NaN</td>\n",
       "      <td>NaN</td>\n",
       "      <td>NaN</td>\n",
       "      <td>NaN</td>\n",
       "    </tr>\n",
       "    <tr>\n",
       "      <th>01:00:00</th>\n",
       "      <td>0.441745</td>\n",
       "      <td>NaN</td>\n",
       "      <td>NaN</td>\n",
       "      <td>NaN</td>\n",
       "      <td>NaN</td>\n",
       "      <td>NaN</td>\n",
       "      <td>NaN</td>\n",
       "      <td>NaN</td>\n",
       "      <td>NaN</td>\n",
       "      <td>NaN</td>\n",
       "      <td>...</td>\n",
       "      <td>NaN</td>\n",
       "      <td>NaN</td>\n",
       "      <td>NaN</td>\n",
       "      <td>NaN</td>\n",
       "      <td>NaN</td>\n",
       "      <td>NaN</td>\n",
       "      <td>NaN</td>\n",
       "      <td>NaN</td>\n",
       "      <td>NaN</td>\n",
       "      <td>NaN</td>\n",
       "    </tr>\n",
       "    <tr>\n",
       "      <th>02:00:00</th>\n",
       "      <td>0.443614</td>\n",
       "      <td>0.448291</td>\n",
       "      <td>NaN</td>\n",
       "      <td>NaN</td>\n",
       "      <td>NaN</td>\n",
       "      <td>NaN</td>\n",
       "      <td>NaN</td>\n",
       "      <td>NaN</td>\n",
       "      <td>NaN</td>\n",
       "      <td>NaN</td>\n",
       "      <td>...</td>\n",
       "      <td>NaN</td>\n",
       "      <td>NaN</td>\n",
       "      <td>NaN</td>\n",
       "      <td>NaN</td>\n",
       "      <td>NaN</td>\n",
       "      <td>NaN</td>\n",
       "      <td>NaN</td>\n",
       "      <td>NaN</td>\n",
       "      <td>NaN</td>\n",
       "      <td>NaN</td>\n",
       "    </tr>\n",
       "    <tr>\n",
       "      <th>03:00:00</th>\n",
       "      <td>0.432394</td>\n",
       "      <td>0.436215</td>\n",
       "      <td>0.453921</td>\n",
       "      <td>NaN</td>\n",
       "      <td>NaN</td>\n",
       "      <td>NaN</td>\n",
       "      <td>NaN</td>\n",
       "      <td>NaN</td>\n",
       "      <td>NaN</td>\n",
       "      <td>NaN</td>\n",
       "      <td>...</td>\n",
       "      <td>NaN</td>\n",
       "      <td>NaN</td>\n",
       "      <td>NaN</td>\n",
       "      <td>NaN</td>\n",
       "      <td>NaN</td>\n",
       "      <td>NaN</td>\n",
       "      <td>NaN</td>\n",
       "      <td>NaN</td>\n",
       "      <td>NaN</td>\n",
       "      <td>NaN</td>\n",
       "    </tr>\n",
       "    <tr>\n",
       "      <th>04:00:00</th>\n",
       "      <td>0.438804</td>\n",
       "      <td>0.434810</td>\n",
       "      <td>0.448853</td>\n",
       "      <td>0.448002</td>\n",
       "      <td>NaN</td>\n",
       "      <td>NaN</td>\n",
       "      <td>NaN</td>\n",
       "      <td>NaN</td>\n",
       "      <td>NaN</td>\n",
       "      <td>NaN</td>\n",
       "      <td>...</td>\n",
       "      <td>NaN</td>\n",
       "      <td>NaN</td>\n",
       "      <td>NaN</td>\n",
       "      <td>NaN</td>\n",
       "      <td>NaN</td>\n",
       "      <td>NaN</td>\n",
       "      <td>NaN</td>\n",
       "      <td>NaN</td>\n",
       "      <td>NaN</td>\n",
       "      <td>NaN</td>\n",
       "    </tr>\n",
       "  </tbody>\n",
       "</table>\n",
       "<p>5 rows × 24 columns</p>\n",
       "</div>"
      ],
      "text/plain": [
       "            00:00:00  01:00:00  02:00:00  03:00:00  04:00:00  05:00:00  \\\n",
       "Unnamed: 0                                                               \n",
       "00:00:00         NaN       NaN       NaN       NaN       NaN       NaN   \n",
       "01:00:00    0.441745       NaN       NaN       NaN       NaN       NaN   \n",
       "02:00:00    0.443614  0.448291       NaN       NaN       NaN       NaN   \n",
       "03:00:00    0.432394  0.436215  0.453921       NaN       NaN       NaN   \n",
       "04:00:00    0.438804  0.434810  0.448853  0.448002       NaN       NaN   \n",
       "\n",
       "            06:00:00  07:00:00  08:00:00  09:00:00    ...     14:00:00  \\\n",
       "Unnamed: 0                                            ...                \n",
       "00:00:00         NaN       NaN       NaN       NaN    ...          NaN   \n",
       "01:00:00         NaN       NaN       NaN       NaN    ...          NaN   \n",
       "02:00:00         NaN       NaN       NaN       NaN    ...          NaN   \n",
       "03:00:00         NaN       NaN       NaN       NaN    ...          NaN   \n",
       "04:00:00         NaN       NaN       NaN       NaN    ...          NaN   \n",
       "\n",
       "            15:00:00  16:00:00  17:00:00  18:00:00  19:00:00  20:00:00  \\\n",
       "Unnamed: 0                                                               \n",
       "00:00:00         NaN       NaN       NaN       NaN       NaN       NaN   \n",
       "01:00:00         NaN       NaN       NaN       NaN       NaN       NaN   \n",
       "02:00:00         NaN       NaN       NaN       NaN       NaN       NaN   \n",
       "03:00:00         NaN       NaN       NaN       NaN       NaN       NaN   \n",
       "04:00:00         NaN       NaN       NaN       NaN       NaN       NaN   \n",
       "\n",
       "            21:00:00  22:00:00  23:00:00  \n",
       "Unnamed: 0                                \n",
       "00:00:00         NaN       NaN       NaN  \n",
       "01:00:00         NaN       NaN       NaN  \n",
       "02:00:00         NaN       NaN       NaN  \n",
       "03:00:00         NaN       NaN       NaN  \n",
       "04:00:00         NaN       NaN       NaN  \n",
       "\n",
       "[5 rows x 24 columns]"
      ]
     },
     "execution_count": 83,
     "metadata": {},
     "output_type": "execute_result"
    }
   ],
   "source": [
    "extreme_time_df=pd.read_csv('bodyToShadowratio.csv')\n",
    "\n",
    "#remove redundant information from df created from csv:\n",
    "extreme_time_df.set_index('Unnamed: 0',drop=True,inplace=True)\n",
    "extreme_time_df.head()"
   ]
  },
  {
   "cell_type": "markdown",
   "metadata": {},
   "source": [
    "Plot the extreme time dataframe to see the location of max body to shadow ratio:"
   ]
  },
  {
   "cell_type": "code",
   "execution_count": 88,
   "metadata": {},
   "outputs": [
    {
     "data": {
      "text/plain": [
       "<matplotlib.axes._subplots.AxesSubplot at 0x103b9e80>"
      ]
     },
     "execution_count": 88,
     "metadata": {},
     "output_type": "execute_result"
    },
    {
     "data": {
      "image/png": "[encoded data removed]",
      "text/plain": [
       "<matplotlib.figure.Figure at 0x103a8e10>"
      ]
     },
     "metadata": {},
     "output_type": "display_data"
    }
   ],
   "source": [
    "import seaborn as sns\n",
    "%matplotlib inline\n",
    "\n",
    "fig, ax = plt.subplots(figsize=(15,8)) \n",
    "sns.heatmap(extreme_time_df)"
   ]
  },
  {
   "cell_type": "markdown",
   "metadata": {},
   "source": [
    "The max body to shadow ratio value is:"
   ]
  },
  {
   "cell_type": "code",
   "execution_count": 11,
   "metadata": {
    "scrolled": true
   },
   "outputs": [
    {
     "data": {
      "text/plain": [
       "0.47242498501688091"
      ]
     },
     "execution_count": 11,
     "metadata": {},
     "output_type": "execute_result"
    }
   ],
   "source": [
    "extreme_time_df.max().max()"
   ]
  },
  {
   "cell_type": "markdown",
   "metadata": {},
   "source": [
    "The maximum body to shadow ratio occurs at these hours: "
   ]
  },
  {
   "cell_type": "code",
   "execution_count": 12,
   "metadata": {},
   "outputs": [
    {
     "data": {
      "text/plain": [
       "['09:00:00', '16:00:00']"
      ]
     },
     "execution_count": 12,
     "metadata": {},
     "output_type": "execute_result"
    }
   ],
   "source": [
    "daily_ratio_max_hours = sorted(extreme_time_df.stack(level=-1).idxmax())\n",
    "daily_ratio_max_hours"
   ]
  },
  {
   "cell_type": "markdown",
   "metadata": {},
   "source": [
    "## Make daily candlesticks"
   ]
  },
  {
   "cell_type": "markdown",
   "metadata": {},
   "source": [
    "Now filter the hourly data to give daily data with open and close in given hours."
   ]
  },
  {
   "cell_type": "code",
   "execution_count": 90,
   "metadata": {},
   "outputs": [],
   "source": [
    "def daily_high_low(extreme_time1, extreme_time2, day_df):\n",
    "    day_df.reset_index(level=0,drop=True,inplace=True)\n",
    "    if (extreme_time1 in day_df.index) and (extreme_time2 in day_df.index) and (extreme_time1 < extreme_time2):\n",
    "        open_value = day_df.loc[extreme_time1,'Open']\n",
    "        close_value = day_df.loc[extreme_time2,'Close']\n",
    "        low_value = day_df.loc[extreme_time1:extreme_time2,'Low'].min()\n",
    "        high_value = day_df.loc[extreme_time1:extreme_time2,'High'].max()\n",
    "        return pd.DataFrame(data={'Open': [open_value], 'High': [high_value], 'Low' : [low_value], 'Close' : [close_value]})\n",
    "    return pd.DataFrame(data={'Open': [np.nan], 'High': [np.nan], 'Low' : [np.nan], 'Close' : [np.nan]})"
   ]
  },
  {
   "cell_type": "code",
   "execution_count": 91,
   "metadata": {},
   "outputs": [],
   "source": [
    "daily_filtered_df = hourly_df.groupby('Date').apply(\n",
    "    lambda day_df : daily_high_low(\n",
    "        pd.to_datetime(daily_ratio_max_hours[0]).time(),pd.to_datetime(daily_ratio_max_hours[1]).time(),day_df))"
   ]
  },
  {
   "cell_type": "code",
   "execution_count": 15,
   "metadata": {},
   "outputs": [],
   "source": [
    "daily_filtered_df.reset_index(level=1,drop=True,inplace=True)"
   ]
  },
  {
   "cell_type": "code",
   "execution_count": 16,
   "metadata": {},
   "outputs": [
    {
     "data": {
      "text/html": [
       "<div>\n",
       "<style scoped>\n",
       "    .dataframe tbody tr th:only-of-type {\n",
       "        vertical-align: middle;\n",
       "    }\n",
       "\n",
       "    .dataframe tbody tr th {\n",
       "        vertical-align: top;\n",
       "    }\n",
       "\n",
       "    .dataframe thead th {\n",
       "        text-align: right;\n",
       "    }\n",
       "</style>\n",
       "<table border=\"1\" class=\"dataframe\">\n",
       "  <thead>\n",
       "    <tr style=\"text-align: right;\">\n",
       "      <th></th>\n",
       "      <th>Close</th>\n",
       "      <th>High</th>\n",
       "      <th>Low</th>\n",
       "      <th>Open</th>\n",
       "    </tr>\n",
       "    <tr>\n",
       "      <th>Date</th>\n",
       "      <th></th>\n",
       "      <th></th>\n",
       "      <th></th>\n",
       "      <th></th>\n",
       "    </tr>\n",
       "  </thead>\n",
       "  <tbody>\n",
       "    <tr>\n",
       "      <th>2007-07-19</th>\n",
       "      <td>1.3819</td>\n",
       "      <td>1.3830</td>\n",
       "      <td>1.3793</td>\n",
       "      <td>1.3804</td>\n",
       "    </tr>\n",
       "    <tr>\n",
       "      <th>2007-07-20</th>\n",
       "      <td>1.3833</td>\n",
       "      <td>1.3842</td>\n",
       "      <td>1.3779</td>\n",
       "      <td>1.3805</td>\n",
       "    </tr>\n",
       "    <tr>\n",
       "      <th>2007-07-23</th>\n",
       "      <td>1.3816</td>\n",
       "      <td>1.3835</td>\n",
       "      <td>1.3794</td>\n",
       "      <td>1.3826</td>\n",
       "    </tr>\n",
       "    <tr>\n",
       "      <th>2007-07-24</th>\n",
       "      <td>1.3824</td>\n",
       "      <td>1.3851</td>\n",
       "      <td>1.3804</td>\n",
       "      <td>1.3818</td>\n",
       "    </tr>\n",
       "    <tr>\n",
       "      <th>2007-07-25</th>\n",
       "      <td>1.3705</td>\n",
       "      <td>1.3807</td>\n",
       "      <td>1.3701</td>\n",
       "      <td>1.3805</td>\n",
       "    </tr>\n",
       "  </tbody>\n",
       "</table>\n",
       "</div>"
      ],
      "text/plain": [
       "             Close    High     Low    Open\n",
       "Date                                      \n",
       "2007-07-19  1.3819  1.3830  1.3793  1.3804\n",
       "2007-07-20  1.3833  1.3842  1.3779  1.3805\n",
       "2007-07-23  1.3816  1.3835  1.3794  1.3826\n",
       "2007-07-24  1.3824  1.3851  1.3804  1.3818\n",
       "2007-07-25  1.3705  1.3807  1.3701  1.3805"
      ]
     },
     "execution_count": 16,
     "metadata": {},
     "output_type": "execute_result"
    }
   ],
   "source": [
    "daily_filtered_df.dropna(inplace=True)\n",
    "daily_filtered_df.head()\n"
   ]
  },
  {
   "cell_type": "markdown",
   "metadata": {},
   "source": [
    "Now plot the filtered daily data to see the candlestick chart:"
   ]
  },
  {
   "cell_type": "code",
   "execution_count": 17,
   "metadata": {
    "scrolled": false
   },
   "outputs": [
    {
     "name": "stdout",
     "output_type": "stream",
     "text": [
      "The draw time for this plot will be slow for all clients.\n"
     ]
    },
    {
     "name": "stderr",
     "output_type": "stream",
     "text": [
      "C:\\Users\\Kuba\\Anaconda3\\lib\\site-packages\\plotly\\api\\v1\\clientresp.py:40: UserWarning:\n",
      "\n",
      "Estimated Draw Time Too Long\n",
      "\n"
     ]
    },
    {
     "data": {
      "text/html": [
       "<iframe id=\"igraph\" scrolling=\"no\" style=\"border:none;\" seamless=\"seamless\" src=\"https://plot.ly/~holi1234/3.embed\" height=\"525px\" width=\"100%\"></iframe>"
      ],
      "text/plain": [
       "<plotly.tools.PlotlyDisplay object>"
      ]
     },
     "execution_count": 17,
     "metadata": {},
     "output_type": "execute_result"
    }
   ],
   "source": [
    "import plotly.plotly as py\n",
    "import plotly\n",
    "from plotly.tools import FigureFactory as FF\n",
    "import plotly.tools\n",
    "import plotly.figure_factory\n",
    "\n",
    "plotly.tools.set_credentials_file(username='holi1234', api_key='xaMPFioeuFMUWuqIFckx')\n",
    "\n",
    "\n",
    "fig = plotly.figure_factory.create_candlestick(daily_filtered_df.Open, daily_filtered_df.High, daily_filtered_df.Low, daily_filtered_df.Close, dates=daily_filtered_df.index)\n",
    "#fig['data'].append( dict( x=daily_filtered_df.index, y=daily_filtered_df.Cluster,                         \n",
    "#                         marker=dict( color='#17BECF' ),\n",
    "#                         type='bar', yaxis='y', name='Volume' ) )\n",
    "py.iplot(fig, filename='EURUSDfiltered', validate=False)"
   ]
  },
  {
   "cell_type": "markdown",
   "metadata": {},
   "source": [
    "### What is the distribution of candlestick body to shadow ratio in filtered data?"
   ]
  },
  {
   "cell_type": "code",
   "execution_count": 18,
   "metadata": {},
   "outputs": [],
   "source": [
    "daily_filtered_df['BodyToShadowRatio'] = daily_filtered_df.apply(\n",
    "    lambda day: abs(day['Open'] - day['Close'])/(day['High'] - day['Low']), axis='columns')"
   ]
  },
  {
   "cell_type": "markdown",
   "metadata": {},
   "source": [
    "For white candlesticks:"
   ]
  },
  {
   "cell_type": "code",
   "execution_count": 19,
   "metadata": {},
   "outputs": [],
   "source": [
    "#daily_filtered_df[daily_filtered_df['Close'] > daily_filtered_df['Open']] \\\n",
    "#.hist(column='BodyToShadowRatio',figsize=(15,8),bins=25)"
   ]
  },
  {
   "cell_type": "markdown",
   "metadata": {},
   "source": [
    "For black candlesticks:"
   ]
  },
  {
   "cell_type": "code",
   "execution_count": 20,
   "metadata": {},
   "outputs": [],
   "source": [
    "#daily_filtered_df[daily_filtered_df['Close'] < daily_filtered_df['Open']] \\\n",
    "#.hist(column='BodyToShadowRatio',figsize=(15,8),bins=25)"
   ]
  },
  {
   "cell_type": "markdown",
   "metadata": {},
   "source": [
    "Total:"
   ]
  },
  {
   "cell_type": "code",
   "execution_count": 21,
   "metadata": {
    "scrolled": false
   },
   "outputs": [
    {
     "data": {
      "text/plain": [
       "array([[<matplotlib.axes._subplots.AxesSubplot object at 0x000000000C88F2B0>]], dtype=object)"
      ]
     },
     "execution_count": 21,
     "metadata": {},
     "output_type": "execute_result"
    },
    {
     "data": {
      "image/png": "[encoded data removed]",
      "text/plain": [
       "<matplotlib.figure.Figure at 0xb9c72b0>"
      ]
     },
     "metadata": {},
     "output_type": "display_data"
    }
   ],
   "source": [
    "daily_filtered_df.hist(column='BodyToShadowRatio',figsize=(15,8),bins=25)"
   ]
  },
  {
   "cell_type": "markdown",
   "metadata": {},
   "source": [
    "What is the distribution of height of the candlesticks?"
   ]
  },
  {
   "cell_type": "code",
   "execution_count": 22,
   "metadata": {},
   "outputs": [],
   "source": [
    "daily_filtered_df['CandlestickHeight'] = daily_filtered_df['High'] - daily_filtered_df['Low']"
   ]
  },
  {
   "cell_type": "code",
   "execution_count": 23,
   "metadata": {
    "scrolled": true
   },
   "outputs": [],
   "source": [
    "from scipy.stats import johnsonsu\n",
    "import numpy as np\n",
    "import matplotlib.pylab as plt\n",
    "\n",
    "#param = invgamma.fit(daily_filtered_df['CandlestickHeight'].dropna()) # distribution fitting\n",
    "param = (-4.2692041891515586,\n",
    " 1.9147599827419737,\n",
    " 0.00027250831893055745,\n",
    " 0.0016590568455139604)\n",
    "lnspc = np.linspace(daily_filtered_df['CandlestickHeight'].dropna().min(),\n",
    "                    daily_filtered_df['CandlestickHeight'].dropna().max(),\n",
    "                   len(daily_filtered_df['CandlestickHeight'].dropna()))\n",
    "\n",
    "pdf_g = johnsonsu.pdf(lnspc, param[0], param[1], param[2], param[3])"
   ]
  },
  {
   "cell_type": "code",
   "execution_count": 24,
   "metadata": {
    "scrolled": true
   },
   "outputs": [],
   "source": [
    "#from fitter import Fitter\n",
    "#f = Fitter(daily_filtered_df['CandlestickHeight'].dropna())\n",
    "#f.fit()\n",
    "#f.fitted_param['johnsonsu']"
   ]
  },
  {
   "cell_type": "code",
   "execution_count": 25,
   "metadata": {},
   "outputs": [
    {
     "data": {
      "text/plain": [
       "[<matplotlib.lines.Line2D at 0xbfc2358>]"
      ]
     },
     "execution_count": 25,
     "metadata": {},
     "output_type": "execute_result"
    },
    {
     "data": {
      "image/png": "[encoded data removed]",
      "text/plain": [
       "<matplotlib.figure.Figure at 0x98de278>"
      ]
     },
     "metadata": {},
     "output_type": "display_data"
    }
   ],
   "source": [
    "daily_filtered_df['CandlestickHeight'].dropna().hist(figsize=(15,8),bins=100)\n",
    "plt.plot(lnspc, pdf_g, label=\"Norm\")"
   ]
  },
  {
   "cell_type": "code",
   "execution_count": 26,
   "metadata": {},
   "outputs": [
    {
     "data": {
      "text/plain": [
       "count    2726.000000\n",
       "mean        0.009008\n",
       "std         0.004981\n",
       "min         0.000710\n",
       "25%         0.005590\n",
       "50%         0.007840\n",
       "75%         0.011200\n",
       "max         0.040700\n",
       "Name: CandlestickHeight, dtype: float64"
      ]
     },
     "execution_count": 26,
     "metadata": {},
     "output_type": "execute_result"
    }
   ],
   "source": [
    "daily_filtered_df['CandlestickHeight'].describe()"
   ]
  },
  {
   "cell_type": "markdown",
   "metadata": {},
   "source": [
    "Add some indication about the behavior of the market on the next days:"
   ]
  },
  {
   "cell_type": "code",
   "execution_count": 27,
   "metadata": {},
   "outputs": [],
   "source": [
    "daily_filtered_df['1dCloseHigher'] = daily_filtered_df['Close'] < daily_filtered_df.shift(-1)['Close']\n",
    "daily_filtered_df['2dCloseHigher'] = daily_filtered_df['Close'] < daily_filtered_df.shift(-2)['Close']\n",
    "daily_filtered_df['3dCloseHigher'] = daily_filtered_df['Close'] < daily_filtered_df.shift(-3)['Close']\n",
    "daily_filtered_df['4dCloseHigher'] = daily_filtered_df['Close'] < daily_filtered_df.shift(-4)['Close']\n",
    "daily_filtered_df['5dCloseHigher'] = daily_filtered_df['Close'] < daily_filtered_df.shift(-5)['Close']"
   ]
  },
  {
   "cell_type": "code",
   "execution_count": 28,
   "metadata": {},
   "outputs": [
    {
     "data": {
      "text/html": [
       "<div>\n",
       "<style scoped>\n",
       "    .dataframe tbody tr th:only-of-type {\n",
       "        vertical-align: middle;\n",
       "    }\n",
       "\n",
       "    .dataframe tbody tr th {\n",
       "        vertical-align: top;\n",
       "    }\n",
       "\n",
       "    .dataframe thead th {\n",
       "        text-align: right;\n",
       "    }\n",
       "</style>\n",
       "<table border=\"1\" class=\"dataframe\">\n",
       "  <thead>\n",
       "    <tr style=\"text-align: right;\">\n",
       "      <th></th>\n",
       "      <th>Close</th>\n",
       "      <th>High</th>\n",
       "      <th>Low</th>\n",
       "      <th>Open</th>\n",
       "      <th>BodyToShadowRatio</th>\n",
       "      <th>CandlestickHeight</th>\n",
       "      <th>1dCloseHigher</th>\n",
       "      <th>2dCloseHigher</th>\n",
       "      <th>3dCloseHigher</th>\n",
       "      <th>4dCloseHigher</th>\n",
       "      <th>5dCloseHigher</th>\n",
       "    </tr>\n",
       "    <tr>\n",
       "      <th>Date</th>\n",
       "      <th></th>\n",
       "      <th></th>\n",
       "      <th></th>\n",
       "      <th></th>\n",
       "      <th></th>\n",
       "      <th></th>\n",
       "      <th></th>\n",
       "      <th></th>\n",
       "      <th></th>\n",
       "      <th></th>\n",
       "      <th></th>\n",
       "    </tr>\n",
       "  </thead>\n",
       "  <tbody>\n",
       "    <tr>\n",
       "      <th>2007-07-19</th>\n",
       "      <td>1.3819</td>\n",
       "      <td>1.3830</td>\n",
       "      <td>1.3793</td>\n",
       "      <td>1.3804</td>\n",
       "      <td>0.405405</td>\n",
       "      <td>0.0037</td>\n",
       "      <td>True</td>\n",
       "      <td>False</td>\n",
       "      <td>True</td>\n",
       "      <td>False</td>\n",
       "      <td>False</td>\n",
       "    </tr>\n",
       "    <tr>\n",
       "      <th>2007-07-20</th>\n",
       "      <td>1.3833</td>\n",
       "      <td>1.3842</td>\n",
       "      <td>1.3779</td>\n",
       "      <td>1.3805</td>\n",
       "      <td>0.444444</td>\n",
       "      <td>0.0063</td>\n",
       "      <td>False</td>\n",
       "      <td>False</td>\n",
       "      <td>False</td>\n",
       "      <td>False</td>\n",
       "      <td>False</td>\n",
       "    </tr>\n",
       "    <tr>\n",
       "      <th>2007-07-23</th>\n",
       "      <td>1.3816</td>\n",
       "      <td>1.3835</td>\n",
       "      <td>1.3794</td>\n",
       "      <td>1.3826</td>\n",
       "      <td>0.243902</td>\n",
       "      <td>0.0041</td>\n",
       "      <td>True</td>\n",
       "      <td>False</td>\n",
       "      <td>False</td>\n",
       "      <td>False</td>\n",
       "      <td>False</td>\n",
       "    </tr>\n",
       "    <tr>\n",
       "      <th>2007-07-24</th>\n",
       "      <td>1.3824</td>\n",
       "      <td>1.3851</td>\n",
       "      <td>1.3804</td>\n",
       "      <td>1.3818</td>\n",
       "      <td>0.127660</td>\n",
       "      <td>0.0047</td>\n",
       "      <td>False</td>\n",
       "      <td>False</td>\n",
       "      <td>False</td>\n",
       "      <td>False</td>\n",
       "      <td>False</td>\n",
       "    </tr>\n",
       "    <tr>\n",
       "      <th>2007-07-25</th>\n",
       "      <td>1.3705</td>\n",
       "      <td>1.3807</td>\n",
       "      <td>1.3701</td>\n",
       "      <td>1.3805</td>\n",
       "      <td>0.943396</td>\n",
       "      <td>0.0106</td>\n",
       "      <td>True</td>\n",
       "      <td>False</td>\n",
       "      <td>False</td>\n",
       "      <td>False</td>\n",
       "      <td>False</td>\n",
       "    </tr>\n",
       "  </tbody>\n",
       "</table>\n",
       "</div>"
      ],
      "text/plain": [
       "             Close    High     Low    Open  BodyToShadowRatio  \\\n",
       "Date                                                            \n",
       "2007-07-19  1.3819  1.3830  1.3793  1.3804           0.405405   \n",
       "2007-07-20  1.3833  1.3842  1.3779  1.3805           0.444444   \n",
       "2007-07-23  1.3816  1.3835  1.3794  1.3826           0.243902   \n",
       "2007-07-24  1.3824  1.3851  1.3804  1.3818           0.127660   \n",
       "2007-07-25  1.3705  1.3807  1.3701  1.3805           0.943396   \n",
       "\n",
       "            CandlestickHeight  1dCloseHigher  2dCloseHigher  3dCloseHigher  \\\n",
       "Date                                                                         \n",
       "2007-07-19             0.0037           True          False           True   \n",
       "2007-07-20             0.0063          False          False          False   \n",
       "2007-07-23             0.0041           True          False          False   \n",
       "2007-07-24             0.0047          False          False          False   \n",
       "2007-07-25             0.0106           True          False          False   \n",
       "\n",
       "            4dCloseHigher  5dCloseHigher  \n",
       "Date                                      \n",
       "2007-07-19          False          False  \n",
       "2007-07-20          False          False  \n",
       "2007-07-23          False          False  \n",
       "2007-07-24          False          False  \n",
       "2007-07-25          False          False  "
      ]
     },
     "execution_count": 28,
     "metadata": {},
     "output_type": "execute_result"
    }
   ],
   "source": [
    "daily_filtered_df.head()"
   ]
  },
  {
   "cell_type": "markdown",
   "metadata": {},
   "source": [
    "Normalize the data:"
   ]
  },
  {
   "cell_type": "code",
   "execution_count": 29,
   "metadata": {
    "scrolled": true
   },
   "outputs": [],
   "source": [
    "from sklearn import preprocessing\n",
    "\n",
    "normalized_height = pd.DataFrame(preprocessing.normalize(daily_filtered_df['CandlestickHeight'].values.reshape(1, -1)).reshape(-1,1),\n",
    "             columns=['NormalizedHeight'], index=daily_filtered_df.index)\n"
   ]
  },
  {
   "cell_type": "code",
   "execution_count": 30,
   "metadata": {
    "scrolled": true
   },
   "outputs": [
    {
     "data": {
      "text/html": [
       "<div>\n",
       "<style scoped>\n",
       "    .dataframe tbody tr th:only-of-type {\n",
       "        vertical-align: middle;\n",
       "    }\n",
       "\n",
       "    .dataframe tbody tr th {\n",
       "        vertical-align: top;\n",
       "    }\n",
       "\n",
       "    .dataframe thead th {\n",
       "        text-align: right;\n",
       "    }\n",
       "</style>\n",
       "<table border=\"1\" class=\"dataframe\">\n",
       "  <thead>\n",
       "    <tr style=\"text-align: right;\">\n",
       "      <th></th>\n",
       "      <th>Close</th>\n",
       "      <th>Open</th>\n",
       "      <th>NormalizedHeight</th>\n",
       "      <th>1dCloseHigher</th>\n",
       "      <th>2dCloseHigher</th>\n",
       "      <th>3dCloseHigher</th>\n",
       "      <th>4dCloseHigher</th>\n",
       "      <th>5dCloseHigher</th>\n",
       "    </tr>\n",
       "    <tr>\n",
       "      <th>Date</th>\n",
       "      <th></th>\n",
       "      <th></th>\n",
       "      <th></th>\n",
       "      <th></th>\n",
       "      <th></th>\n",
       "      <th></th>\n",
       "      <th></th>\n",
       "      <th></th>\n",
       "    </tr>\n",
       "  </thead>\n",
       "  <tbody>\n",
       "    <tr>\n",
       "      <th>2007-07-19</th>\n",
       "      <td>0.702703</td>\n",
       "      <td>0.297297</td>\n",
       "      <td>0.006885</td>\n",
       "      <td>True</td>\n",
       "      <td>False</td>\n",
       "      <td>True</td>\n",
       "      <td>False</td>\n",
       "      <td>False</td>\n",
       "    </tr>\n",
       "    <tr>\n",
       "      <th>2007-07-20</th>\n",
       "      <td>0.857143</td>\n",
       "      <td>0.412698</td>\n",
       "      <td>0.011723</td>\n",
       "      <td>False</td>\n",
       "      <td>False</td>\n",
       "      <td>False</td>\n",
       "      <td>False</td>\n",
       "      <td>False</td>\n",
       "    </tr>\n",
       "    <tr>\n",
       "      <th>2007-07-23</th>\n",
       "      <td>0.536585</td>\n",
       "      <td>0.780488</td>\n",
       "      <td>0.007629</td>\n",
       "      <td>True</td>\n",
       "      <td>False</td>\n",
       "      <td>False</td>\n",
       "      <td>False</td>\n",
       "      <td>False</td>\n",
       "    </tr>\n",
       "    <tr>\n",
       "      <th>2007-07-24</th>\n",
       "      <td>0.425532</td>\n",
       "      <td>0.297872</td>\n",
       "      <td>0.008746</td>\n",
       "      <td>False</td>\n",
       "      <td>False</td>\n",
       "      <td>False</td>\n",
       "      <td>False</td>\n",
       "      <td>False</td>\n",
       "    </tr>\n",
       "    <tr>\n",
       "      <th>2007-07-25</th>\n",
       "      <td>0.037736</td>\n",
       "      <td>0.981132</td>\n",
       "      <td>0.019724</td>\n",
       "      <td>True</td>\n",
       "      <td>False</td>\n",
       "      <td>False</td>\n",
       "      <td>False</td>\n",
       "      <td>False</td>\n",
       "    </tr>\n",
       "  </tbody>\n",
       "</table>\n",
       "</div>"
      ],
      "text/plain": [
       "               Close      Open  NormalizedHeight  1dCloseHigher  \\\n",
       "Date                                                              \n",
       "2007-07-19  0.702703  0.297297          0.006885           True   \n",
       "2007-07-20  0.857143  0.412698          0.011723          False   \n",
       "2007-07-23  0.536585  0.780488          0.007629           True   \n",
       "2007-07-24  0.425532  0.297872          0.008746          False   \n",
       "2007-07-25  0.037736  0.981132          0.019724           True   \n",
       "\n",
       "            2dCloseHigher  3dCloseHigher  4dCloseHigher  5dCloseHigher  \n",
       "Date                                                                    \n",
       "2007-07-19          False           True          False          False  \n",
       "2007-07-20          False          False          False          False  \n",
       "2007-07-23          False          False          False          False  \n",
       "2007-07-24          False          False          False          False  \n",
       "2007-07-25          False          False          False          False  "
      ]
     },
     "execution_count": 30,
     "metadata": {},
     "output_type": "execute_result"
    }
   ],
   "source": [
    "scaled_daily_df = daily_filtered_df.loc[:,'Close':'Open']\n",
    "scaled_daily_df = scaled_daily_df.subtract(scaled_daily_df['Low'],axis='rows')\n",
    "scaled_daily_df = scaled_daily_df.divide(scaled_daily_df['High'],axis='rows')\n",
    "scaled_daily_df.drop(['High','Low'],axis='columns',inplace=True)\n",
    "scaled_daily_df['NormalizedHeight'] = normalized_height\n",
    "scaled_daily_df = scaled_daily_df.join(daily_filtered_df.loc[:,'1dCloseHigher':])\n",
    "scaled_daily_df.head()"
   ]
  },
  {
   "cell_type": "markdown",
   "metadata": {},
   "source": [
    "# Part 2: Clustering\n",
    "\n",
    "### Now cluster the data:"
   ]
  },
  {
   "cell_type": "code",
   "execution_count": 31,
   "metadata": {},
   "outputs": [
    {
     "data": {
      "text/plain": [
       "array([[ 0.7027027 ,  0.2972973 ,  0.00688478],\n",
       "       [ 0.85714286,  0.41269841,  0.01172273],\n",
       "       [ 0.53658537,  0.7804878 ,  0.00762908],\n",
       "       ..., \n",
       "       [ 0.31278891,  0.43913713,  0.01207628],\n",
       "       [ 0.88991597,  0.10840336,  0.02214294],\n",
       "       [ 0.70440252,  0.50524109,  0.00887578]])"
      ]
     },
     "execution_count": 31,
     "metadata": {},
     "output_type": "execute_result"
    }
   ],
   "source": [
    "scaled_daily_df.loc[:,'Close':'NormalizedHeight'].values"
   ]
  },
  {
   "cell_type": "code",
   "execution_count": 75,
   "metadata": {},
   "outputs": [
    {
     "name": "stdout",
     "output_type": "stream",
     "text": [
      "number of estimated clusters : 10\n"
     ]
    },
    {
     "data": {
      "image/png": "[encoded data removed]",
      "text/plain": [
       "<matplotlib.figure.Figure at 0xf2cfa90>"
      ]
     },
     "metadata": {},
     "output_type": "display_data"
    }
   ],
   "source": [
    "import numpy as np\n",
    "from sklearn.cluster import MeanShift, estimate_bandwidth\n",
    "from sklearn.datasets.samples_generator import make_blobs\n",
    "\n",
    "data = scaled_daily_df.loc[:,'Close':'NormalizedHeight'].values#[:1300]\n",
    "bandwidth = estimate_bandwidth(data, quantile=0.05)\n",
    "ms = MeanShift(bandwidth=bandwidth, bin_seeding=True)\n",
    "ms.fit(data)\n",
    "labels = ms.labels_\n",
    "cluster_centers = ms.cluster_centers_\n",
    "\n",
    "labels_unique = np.unique(labels)\n",
    "n_clusters_ = len(labels_unique)\n",
    "\n",
    "print(\"number of estimated clusters : %d\" % n_clusters_)\n",
    "\n",
    "import matplotlib.pyplot as plt\n",
    "from itertools import cycle\n",
    "\n",
    "plt.figure(1, figsize=(15,8))\n",
    "plt.clf()\n",
    "plt.xlabel('Close')\n",
    "plt.ylabel('Open')\n",
    "\n",
    "colors = cycle('bgrcmykbgrcmykbgrcmykbgrcmyk')\n",
    "for k, col in zip(range(n_clusters_), colors):\n",
    "    my_members = labels == k\n",
    "    cluster_center = cluster_centers[k]\n",
    "    plt.plot(data[my_members, 0], data[my_members,1], col + '.')\n",
    "    plt.plot(cluster_center[0], cluster_center[1], 'o', markerfacecolor=col,\n",
    "             markeredgecolor='k', markersize=14)\n",
    "plt.title('Estimated number of clusters: %d' % n_clusters_)\n",
    "plt.show()"
   ]
  },
  {
   "cell_type": "markdown",
   "metadata": {},
   "source": [
    "### TODO: make a 3d plot of clustered data"
   ]
  },
  {
   "cell_type": "code",
   "execution_count": 67,
   "metadata": {},
   "outputs": [],
   "source": [
    "scaled_daily_df['Cluster']= ms.predict(scaled_daily_df.loc[:,'Close':'NormalizedHeight'].values) #data"
   ]
  },
  {
   "cell_type": "code",
   "execution_count": 68,
   "metadata": {
    "scrolled": true
   },
   "outputs": [
    {
     "name": "stderr",
     "output_type": "stream",
     "text": [
      "C:\\Users\\Kuba\\Anaconda3\\lib\\site-packages\\ipykernel\\__main__.py:1: UserWarning:\n",
      "\n",
      "Boolean Series key will be reindexed to match DataFrame index.\n",
      "\n"
     ]
    },
    {
     "data": {
      "text/plain": [
       "0.49126637554585151"
      ]
     },
     "execution_count": 68,
     "metadata": {},
     "output_type": "execute_result"
    }
   ],
   "source": [
    "scaled_daily_df.query('Cluster == 0')[scaled_daily_df['1dCloseHigher'] ==True]['1dCloseHigher'].count() \\\n",
    "/ scaled_daily_df.query('Cluster == 0')['1dCloseHigher'].count()"
   ]
  },
  {
   "cell_type": "code",
   "execution_count": 69,
   "metadata": {},
   "outputs": [
    {
     "data": {
      "text/plain": [
       "0.19002201027146001"
      ]
     },
     "execution_count": 69,
     "metadata": {},
     "output_type": "execute_result"
    }
   ],
   "source": [
    "scaled_daily_df.query('0.0 < Close < 0.3 and 0.7 < Open < 1')['Close'].count() / scaled_daily_df['Close'].count()"
   ]
  },
  {
   "cell_type": "code",
   "execution_count": 70,
   "metadata": {
    "scrolled": true
   },
   "outputs": [
    {
     "data": {
      "text/html": [
       "<div>\n",
       "<style scoped>\n",
       "    .dataframe tbody tr th:only-of-type {\n",
       "        vertical-align: middle;\n",
       "    }\n",
       "\n",
       "    .dataframe tbody tr th {\n",
       "        vertical-align: top;\n",
       "    }\n",
       "\n",
       "    .dataframe thead th {\n",
       "        text-align: right;\n",
       "    }\n",
       "</style>\n",
       "<table border=\"1\" class=\"dataframe\">\n",
       "  <thead>\n",
       "    <tr style=\"text-align: right;\">\n",
       "      <th></th>\n",
       "      <th>Close</th>\n",
       "      <th>Open</th>\n",
       "      <th>NormalizedHeight</th>\n",
       "      <th>1dCloseHigher</th>\n",
       "      <th>2dCloseHigher</th>\n",
       "      <th>3dCloseHigher</th>\n",
       "      <th>4dCloseHigher</th>\n",
       "      <th>5dCloseHigher</th>\n",
       "      <th>Cluster</th>\n",
       "    </tr>\n",
       "    <tr>\n",
       "      <th>Date</th>\n",
       "      <th></th>\n",
       "      <th></th>\n",
       "      <th></th>\n",
       "      <th></th>\n",
       "      <th></th>\n",
       "      <th></th>\n",
       "      <th></th>\n",
       "      <th></th>\n",
       "      <th></th>\n",
       "    </tr>\n",
       "  </thead>\n",
       "  <tbody>\n",
       "    <tr>\n",
       "      <th>2007-07-19</th>\n",
       "      <td>0.702703</td>\n",
       "      <td>0.297297</td>\n",
       "      <td>0.006885</td>\n",
       "      <td>True</td>\n",
       "      <td>False</td>\n",
       "      <td>True</td>\n",
       "      <td>False</td>\n",
       "      <td>False</td>\n",
       "      <td>4</td>\n",
       "    </tr>\n",
       "    <tr>\n",
       "      <th>2007-07-20</th>\n",
       "      <td>0.857143</td>\n",
       "      <td>0.412698</td>\n",
       "      <td>0.011723</td>\n",
       "      <td>False</td>\n",
       "      <td>False</td>\n",
       "      <td>False</td>\n",
       "      <td>False</td>\n",
       "      <td>False</td>\n",
       "      <td>3</td>\n",
       "    </tr>\n",
       "    <tr>\n",
       "      <th>2007-07-23</th>\n",
       "      <td>0.536585</td>\n",
       "      <td>0.780488</td>\n",
       "      <td>0.007629</td>\n",
       "      <td>True</td>\n",
       "      <td>False</td>\n",
       "      <td>False</td>\n",
       "      <td>False</td>\n",
       "      <td>False</td>\n",
       "      <td>5</td>\n",
       "    </tr>\n",
       "    <tr>\n",
       "      <th>2007-07-24</th>\n",
       "      <td>0.425532</td>\n",
       "      <td>0.297872</td>\n",
       "      <td>0.008746</td>\n",
       "      <td>False</td>\n",
       "      <td>False</td>\n",
       "      <td>False</td>\n",
       "      <td>False</td>\n",
       "      <td>False</td>\n",
       "      <td>4</td>\n",
       "    </tr>\n",
       "    <tr>\n",
       "      <th>2007-07-25</th>\n",
       "      <td>0.037736</td>\n",
       "      <td>0.981132</td>\n",
       "      <td>0.019724</td>\n",
       "      <td>True</td>\n",
       "      <td>False</td>\n",
       "      <td>False</td>\n",
       "      <td>False</td>\n",
       "      <td>False</td>\n",
       "      <td>0</td>\n",
       "    </tr>\n",
       "  </tbody>\n",
       "</table>\n",
       "</div>"
      ],
      "text/plain": [
       "               Close      Open  NormalizedHeight  1dCloseHigher  \\\n",
       "Date                                                              \n",
       "2007-07-19  0.702703  0.297297          0.006885           True   \n",
       "2007-07-20  0.857143  0.412698          0.011723          False   \n",
       "2007-07-23  0.536585  0.780488          0.007629           True   \n",
       "2007-07-24  0.425532  0.297872          0.008746          False   \n",
       "2007-07-25  0.037736  0.981132          0.019724           True   \n",
       "\n",
       "            2dCloseHigher  3dCloseHigher  4dCloseHigher  5dCloseHigher  \\\n",
       "Date                                                                     \n",
       "2007-07-19          False           True          False          False   \n",
       "2007-07-20          False          False          False          False   \n",
       "2007-07-23          False          False          False          False   \n",
       "2007-07-24          False          False          False          False   \n",
       "2007-07-25          False          False          False          False   \n",
       "\n",
       "            Cluster  \n",
       "Date                 \n",
       "2007-07-19        4  \n",
       "2007-07-20        3  \n",
       "2007-07-23        5  \n",
       "2007-07-24        4  \n",
       "2007-07-25        0  "
      ]
     },
     "execution_count": 70,
     "metadata": {},
     "output_type": "execute_result"
    }
   ],
   "source": [
    "scaled_daily_df.head()"
   ]
  },
  {
   "cell_type": "code",
   "execution_count": 71,
   "metadata": {},
   "outputs": [],
   "source": [
    "daily_filtered_df['Cluster'] = scaled_daily_df['Cluster']"
   ]
  },
  {
   "cell_type": "code",
   "execution_count": 72,
   "metadata": {
    "scrolled": true
   },
   "outputs": [
    {
     "data": {
      "text/html": [
       "<div>\n",
       "<style scoped>\n",
       "    .dataframe tbody tr th:only-of-type {\n",
       "        vertical-align: middle;\n",
       "    }\n",
       "\n",
       "    .dataframe tbody tr th {\n",
       "        vertical-align: top;\n",
       "    }\n",
       "\n",
       "    .dataframe thead th {\n",
       "        text-align: right;\n",
       "    }\n",
       "</style>\n",
       "<table border=\"1\" class=\"dataframe\">\n",
       "  <thead>\n",
       "    <tr style=\"text-align: right;\">\n",
       "      <th></th>\n",
       "      <th>Close</th>\n",
       "      <th>High</th>\n",
       "      <th>Low</th>\n",
       "      <th>Open</th>\n",
       "      <th>BodyToShadowRatio</th>\n",
       "      <th>CandlestickHeight</th>\n",
       "      <th>1dCloseHigher</th>\n",
       "      <th>2dCloseHigher</th>\n",
       "      <th>3dCloseHigher</th>\n",
       "      <th>4dCloseHigher</th>\n",
       "      <th>5dCloseHigher</th>\n",
       "      <th>Cluster</th>\n",
       "    </tr>\n",
       "    <tr>\n",
       "      <th>Date</th>\n",
       "      <th></th>\n",
       "      <th></th>\n",
       "      <th></th>\n",
       "      <th></th>\n",
       "      <th></th>\n",
       "      <th></th>\n",
       "      <th></th>\n",
       "      <th></th>\n",
       "      <th></th>\n",
       "      <th></th>\n",
       "      <th></th>\n",
       "      <th></th>\n",
       "    </tr>\n",
       "  </thead>\n",
       "  <tbody>\n",
       "    <tr>\n",
       "      <th>2007-07-19</th>\n",
       "      <td>1.3819</td>\n",
       "      <td>1.3830</td>\n",
       "      <td>1.3793</td>\n",
       "      <td>1.3804</td>\n",
       "      <td>0.405405</td>\n",
       "      <td>0.0037</td>\n",
       "      <td>True</td>\n",
       "      <td>False</td>\n",
       "      <td>True</td>\n",
       "      <td>False</td>\n",
       "      <td>False</td>\n",
       "      <td>4</td>\n",
       "    </tr>\n",
       "    <tr>\n",
       "      <th>2007-07-20</th>\n",
       "      <td>1.3833</td>\n",
       "      <td>1.3842</td>\n",
       "      <td>1.3779</td>\n",
       "      <td>1.3805</td>\n",
       "      <td>0.444444</td>\n",
       "      <td>0.0063</td>\n",
       "      <td>False</td>\n",
       "      <td>False</td>\n",
       "      <td>False</td>\n",
       "      <td>False</td>\n",
       "      <td>False</td>\n",
       "      <td>3</td>\n",
       "    </tr>\n",
       "    <tr>\n",
       "      <th>2007-07-23</th>\n",
       "      <td>1.3816</td>\n",
       "      <td>1.3835</td>\n",
       "      <td>1.3794</td>\n",
       "      <td>1.3826</td>\n",
       "      <td>0.243902</td>\n",
       "      <td>0.0041</td>\n",
       "      <td>True</td>\n",
       "      <td>False</td>\n",
       "      <td>False</td>\n",
       "      <td>False</td>\n",
       "      <td>False</td>\n",
       "      <td>5</td>\n",
       "    </tr>\n",
       "    <tr>\n",
       "      <th>2007-07-24</th>\n",
       "      <td>1.3824</td>\n",
       "      <td>1.3851</td>\n",
       "      <td>1.3804</td>\n",
       "      <td>1.3818</td>\n",
       "      <td>0.127660</td>\n",
       "      <td>0.0047</td>\n",
       "      <td>False</td>\n",
       "      <td>False</td>\n",
       "      <td>False</td>\n",
       "      <td>False</td>\n",
       "      <td>False</td>\n",
       "      <td>4</td>\n",
       "    </tr>\n",
       "    <tr>\n",
       "      <th>2007-07-25</th>\n",
       "      <td>1.3705</td>\n",
       "      <td>1.3807</td>\n",
       "      <td>1.3701</td>\n",
       "      <td>1.3805</td>\n",
       "      <td>0.943396</td>\n",
       "      <td>0.0106</td>\n",
       "      <td>True</td>\n",
       "      <td>False</td>\n",
       "      <td>False</td>\n",
       "      <td>False</td>\n",
       "      <td>False</td>\n",
       "      <td>0</td>\n",
       "    </tr>\n",
       "    <tr>\n",
       "      <th>2007-07-26</th>\n",
       "      <td>1.3718</td>\n",
       "      <td>1.3742</td>\n",
       "      <td>1.3692</td>\n",
       "      <td>1.3710</td>\n",
       "      <td>0.160000</td>\n",
       "      <td>0.0050</td>\n",
       "      <td>False</td>\n",
       "      <td>False</td>\n",
       "      <td>False</td>\n",
       "      <td>False</td>\n",
       "      <td>False</td>\n",
       "      <td>4</td>\n",
       "    </tr>\n",
       "    <tr>\n",
       "      <th>2007-07-27</th>\n",
       "      <td>1.3654</td>\n",
       "      <td>1.3728</td>\n",
       "      <td>1.3633</td>\n",
       "      <td>1.3727</td>\n",
       "      <td>0.768421</td>\n",
       "      <td>0.0095</td>\n",
       "      <td>True</td>\n",
       "      <td>True</td>\n",
       "      <td>True</td>\n",
       "      <td>True</td>\n",
       "      <td>True</td>\n",
       "      <td>0</td>\n",
       "    </tr>\n",
       "    <tr>\n",
       "      <th>2007-07-30</th>\n",
       "      <td>1.3682</td>\n",
       "      <td>1.3688</td>\n",
       "      <td>1.3642</td>\n",
       "      <td>1.3645</td>\n",
       "      <td>0.804348</td>\n",
       "      <td>0.0046</td>\n",
       "      <td>True</td>\n",
       "      <td>False</td>\n",
       "      <td>False</td>\n",
       "      <td>True</td>\n",
       "      <td>True</td>\n",
       "      <td>1</td>\n",
       "    </tr>\n",
       "    <tr>\n",
       "      <th>2007-07-31</th>\n",
       "      <td>1.3687</td>\n",
       "      <td>1.3722</td>\n",
       "      <td>1.3684</td>\n",
       "      <td>1.3700</td>\n",
       "      <td>0.342105</td>\n",
       "      <td>0.0038</td>\n",
       "      <td>False</td>\n",
       "      <td>False</td>\n",
       "      <td>True</td>\n",
       "      <td>True</td>\n",
       "      <td>True</td>\n",
       "      <td>9</td>\n",
       "    </tr>\n",
       "    <tr>\n",
       "      <th>2007-08-01</th>\n",
       "      <td>1.3675</td>\n",
       "      <td>1.3709</td>\n",
       "      <td>1.3637</td>\n",
       "      <td>1.3657</td>\n",
       "      <td>0.250000</td>\n",
       "      <td>0.0072</td>\n",
       "      <td>False</td>\n",
       "      <td>True</td>\n",
       "      <td>True</td>\n",
       "      <td>True</td>\n",
       "      <td>True</td>\n",
       "      <td>4</td>\n",
       "    </tr>\n",
       "    <tr>\n",
       "      <th>2007-08-02</th>\n",
       "      <td>1.3673</td>\n",
       "      <td>1.3675</td>\n",
       "      <td>1.3651</td>\n",
       "      <td>1.3669</td>\n",
       "      <td>0.166667</td>\n",
       "      <td>0.0024</td>\n",
       "      <td>True</td>\n",
       "      <td>True</td>\n",
       "      <td>True</td>\n",
       "      <td>True</td>\n",
       "      <td>True</td>\n",
       "      <td>8</td>\n",
       "    </tr>\n",
       "    <tr>\n",
       "      <th>2007-08-03</th>\n",
       "      <td>1.3765</td>\n",
       "      <td>1.3777</td>\n",
       "      <td>1.3684</td>\n",
       "      <td>1.3705</td>\n",
       "      <td>0.645161</td>\n",
       "      <td>0.0093</td>\n",
       "      <td>True</td>\n",
       "      <td>False</td>\n",
       "      <td>True</td>\n",
       "      <td>False</td>\n",
       "      <td>False</td>\n",
       "      <td>1</td>\n",
       "    </tr>\n",
       "    <tr>\n",
       "      <th>2007-08-06</th>\n",
       "      <td>1.3794</td>\n",
       "      <td>1.3835</td>\n",
       "      <td>1.3791</td>\n",
       "      <td>1.3831</td>\n",
       "      <td>0.840909</td>\n",
       "      <td>0.0044</td>\n",
       "      <td>False</td>\n",
       "      <td>True</td>\n",
       "      <td>False</td>\n",
       "      <td>False</td>\n",
       "      <td>False</td>\n",
       "      <td>0</td>\n",
       "    </tr>\n",
       "    <tr>\n",
       "      <th>2007-08-07</th>\n",
       "      <td>1.3763</td>\n",
       "      <td>1.3807</td>\n",
       "      <td>1.3754</td>\n",
       "      <td>1.3799</td>\n",
       "      <td>0.679245</td>\n",
       "      <td>0.0053</td>\n",
       "      <td>True</td>\n",
       "      <td>False</td>\n",
       "      <td>False</td>\n",
       "      <td>False</td>\n",
       "      <td>False</td>\n",
       "      <td>0</td>\n",
       "    </tr>\n",
       "    <tr>\n",
       "      <th>2007-08-08</th>\n",
       "      <td>1.3817</td>\n",
       "      <td>1.3825</td>\n",
       "      <td>1.3723</td>\n",
       "      <td>1.3729</td>\n",
       "      <td>0.862745</td>\n",
       "      <td>0.0102</td>\n",
       "      <td>False</td>\n",
       "      <td>False</td>\n",
       "      <td>False</td>\n",
       "      <td>False</td>\n",
       "      <td>False</td>\n",
       "      <td>1</td>\n",
       "    </tr>\n",
       "  </tbody>\n",
       "</table>\n",
       "</div>"
      ],
      "text/plain": [
       "             Close    High     Low    Open  BodyToShadowRatio  \\\n",
       "Date                                                            \n",
       "2007-07-19  1.3819  1.3830  1.3793  1.3804           0.405405   \n",
       "2007-07-20  1.3833  1.3842  1.3779  1.3805           0.444444   \n",
       "2007-07-23  1.3816  1.3835  1.3794  1.3826           0.243902   \n",
       "2007-07-24  1.3824  1.3851  1.3804  1.3818           0.127660   \n",
       "2007-07-25  1.3705  1.3807  1.3701  1.3805           0.943396   \n",
       "2007-07-26  1.3718  1.3742  1.3692  1.3710           0.160000   \n",
       "2007-07-27  1.3654  1.3728  1.3633  1.3727           0.768421   \n",
       "2007-07-30  1.3682  1.3688  1.3642  1.3645           0.804348   \n",
       "2007-07-31  1.3687  1.3722  1.3684  1.3700           0.342105   \n",
       "2007-08-01  1.3675  1.3709  1.3637  1.3657           0.250000   \n",
       "2007-08-02  1.3673  1.3675  1.3651  1.3669           0.166667   \n",
       "2007-08-03  1.3765  1.3777  1.3684  1.3705           0.645161   \n",
       "2007-08-06  1.3794  1.3835  1.3791  1.3831           0.840909   \n",
       "2007-08-07  1.3763  1.3807  1.3754  1.3799           0.679245   \n",
       "2007-08-08  1.3817  1.3825  1.3723  1.3729           0.862745   \n",
       "\n",
       "            CandlestickHeight  1dCloseHigher  2dCloseHigher  3dCloseHigher  \\\n",
       "Date                                                                         \n",
       "2007-07-19             0.0037           True          False           True   \n",
       "2007-07-20             0.0063          False          False          False   \n",
       "2007-07-23             0.0041           True          False          False   \n",
       "2007-07-24             0.0047          False          False          False   \n",
       "2007-07-25             0.0106           True          False          False   \n",
       "2007-07-26             0.0050          False          False          False   \n",
       "2007-07-27             0.0095           True           True           True   \n",
       "2007-07-30             0.0046           True          False          False   \n",
       "2007-07-31             0.0038          False          False           True   \n",
       "2007-08-01             0.0072          False           True           True   \n",
       "2007-08-02             0.0024           True           True           True   \n",
       "2007-08-03             0.0093           True          False           True   \n",
       "2007-08-06             0.0044          False           True          False   \n",
       "2007-08-07             0.0053           True          False          False   \n",
       "2007-08-08             0.0102          False          False          False   \n",
       "\n",
       "            4dCloseHigher  5dCloseHigher  Cluster  \n",
       "Date                                               \n",
       "2007-07-19          False          False        4  \n",
       "2007-07-20          False          False        3  \n",
       "2007-07-23          False          False        5  \n",
       "2007-07-24          False          False        4  \n",
       "2007-07-25          False          False        0  \n",
       "2007-07-26          False          False        4  \n",
       "2007-07-27           True           True        0  \n",
       "2007-07-30           True           True        1  \n",
       "2007-07-31           True           True        9  \n",
       "2007-08-01           True           True        4  \n",
       "2007-08-02           True           True        8  \n",
       "2007-08-03          False          False        1  \n",
       "2007-08-06          False          False        0  \n",
       "2007-08-07          False          False        0  \n",
       "2007-08-08          False          False        1  "
      ]
     },
     "execution_count": 72,
     "metadata": {},
     "output_type": "execute_result"
    }
   ],
   "source": [
    "daily_filtered_df.head(15)"
   ]
  },
  {
   "cell_type": "code",
   "execution_count": 73,
   "metadata": {},
   "outputs": [
    {
     "data": {
      "text/plain": [
       "count    0.0\n",
       "mean     NaN\n",
       "std      NaN\n",
       "min      NaN\n",
       "25%      NaN\n",
       "50%      NaN\n",
       "75%      NaN\n",
       "max      NaN\n",
       "Name: Close, dtype: float64"
      ]
     },
     "execution_count": 73,
     "metadata": {},
     "output_type": "execute_result"
    },
    {
     "data": {
      "image/png": "[encoded data removed]",
      "text/plain": [
       "<matplotlib.figure.Figure at 0x1001f400>"
      ]
     },
     "metadata": {},
     "output_type": "display_data"
    }
   ],
   "source": [
    "daily_close_change = (daily_filtered_df.shift(-1)['Close'] - daily_filtered_df['Close'])\n",
    "(-daily_close_change[daily_filtered_df['Cluster'] == 0])\\\n",
    ".add(-daily_close_change[daily_filtered_df['Cluster'] == 1],fill_value=0)\\\n",
    ".add(daily_close_change[daily_filtered_df['Cluster'] == 5],fill_value=0)\\\n",
    ".add(-daily_close_change[daily_filtered_df['Cluster'] == 7],fill_value=0)\\\n",
    ".add(daily_close_change[daily_filtered_df['Cluster'] == 8],fill_value=0)\\\n",
    ".add(daily_close_change[daily_filtered_df['Cluster'] == 9],fill_value=0)\\\n",
    ".add(-daily_close_change[daily_filtered_df['Cluster'] == 10],fill_value=0)\\\n",
    ".add(daily_close_change[daily_filtered_df['Cluster'] == 12],fill_value=0)\\\n",
    ".add(-daily_close_change[daily_filtered_df['Cluster'] == 13],fill_value=0)\\\n",
    ".cumsum().plot()\n",
    "# -0 -1 5 -7 8 9 -10 12 -13\n",
    "(daily_filtered_df['Close']-1.38).plot(figsize=(15,8))\n",
    "daily_close_change[daily_filtered_df['Cluster'] == 14].describe()"
   ]
  },
  {
   "cell_type": "markdown",
   "metadata": {},
   "source": [
    "## TODO: refactor code and add info about the results\n",
    "what is the confusion matrix for each of 2 clusters?\n",
    "what are the results of simple strategy picking a position, in direction predicted by the cluster, at close of given candlestick and closing at close of next candlestick?\n",
    "\n",
    "explore another clustering, and check what king of profit chart it gives\n",
    "\n",
    "\n"
   ]
  }
 ],
 "metadata": {
  "kernelspec": {
   "display_name": "Python [conda env:Anaconda3]",
   "language": "python",
   "name": "conda-env-Anaconda3-py"
  },
  "language_info": {
   "codemirror_mode": {
    "name": "ipython",
    "version": 3
   },
   "file_extension": ".py",
   "mimetype": "text/x-python",
   "name": "python",
   "nbconvert_exporter": "python",
   "pygments_lexer": "ipython3",
   "version": "3.6.3"
  }
 },
 "nbformat": 4,
 "nbformat_minor": 2
}
