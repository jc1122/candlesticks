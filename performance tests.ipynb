{
 "cells": [
  {
   "cell_type": "code",
   "execution_count": 1,
   "metadata": {},
   "outputs": [],
   "source": [
    "import pandas as pd\n",
    "import numpy as np\n",
    "\n",
    "np.random.seed(42)\n",
    "length = 100\n",
    "hefty_length = 100_000\n",
    "\n",
    "lows = np.add.accumulate(np.random.rand(length)-0.5)\n",
    "hefty_lows = np.add.accumulate(np.random.rand(hefty_length)-0.5)\n",
    "\n",
    "large_bars = pd.DataFrame(data={'high' : lows, \\\n",
    "                           'low': lows+2},\n",
    "                   index=np.arange(length))\n",
    "\n",
    "hefty_bars = pd.DataFrame(data={'high' : hefty_lows, \\\n",
    "                           'low': hefty_lows+2},\n",
    "                   index=np.arange(hefty_length))"
   ]
  },
  {
   "cell_type": "code",
   "execution_count": 2,
   "metadata": {},
   "outputs": [],
   "source": [
    "\n",
    "from numpy import minimum, maximum, argmin, argmax, add\n",
    "\n",
    "def max_swing(bars, upswing=True, hard_left=True, hard_right=True):\n",
    "    \n",
    "    if len(bars) <= 2 + hard_left + hard_right:\n",
    "        return None, None\n",
    " \n",
    "    if upswing:\n",
    "        mins = minimum.accumulate(bars['low']) \n",
    "        \n",
    "        swing_end = (bars['high'] - mins).idxmax()\n",
    "        if swing_end == 0:\n",
    "            return None, None, None, None\n",
    "        swing_start = (mins[:swing_end]).idxmin()\n",
    "        \n",
    "        start_value = mins[swing_start]\n",
    "        end_value = bars.at[swing_end, 'high']\n",
    "        \n",
    "    else:\n",
    "        maxs = maximum.accumulate(bars['high'])\n",
    "        \n",
    "        swing_end = (maxs - bars['low']).idxmax()\n",
    "        if swing_end == 0:\n",
    "            return None, None, None, None\n",
    "        swing_start = (maxs[:swing_end]).idxmax()\n",
    "        \n",
    "        start_value = maxs[swing_start]\n",
    "        end_value = bars.at[swing_end, 'low']\n",
    "    \n",
    "    #now get rid of duplicate indexes, this should not do any harm\n",
    "    if hard_left and swing_start == bars.index[0]:\n",
    "        swing_start = bars.index[1]\n",
    "        \n",
    "    if hard_right and swing_end == bars.index[-1]:\n",
    "        swing_end = bars.index[-2]\n",
    "    \n",
    "    return swing_start, swing_end, start_value, end_value #bars.index[swing_start], bars.index[swing_end]"
   ]
  },
  {
   "cell_type": "code",
   "execution_count": 3,
   "metadata": {},
   "outputs": [],
   "source": [
    "bars = pd.DataFrame({'high' : [ 11, 10,  9,  8, 11,  8,  9, 10,  9],\n",
    "                       'low': [  6,  5,  8,  7,  6,  7,  8,  5,  4]},\n",
    "                       index= ['0','1','2','3','4','5','6','7','8'])"
   ]
  },
  {
   "cell_type": "code",
   "execution_count": 4,
   "metadata": {},
   "outputs": [
    {
     "name": "stdout",
     "output_type": "stream",
     "text": [
      "('1', '7', 11, 4)\n",
      "('1', '4', 5, 11)\n",
      "(49, 55, -0.7038047803869438, -0.6049868234352309)\n",
      "(3, 85, 0.6559068512657203, -1.2117654367552042)\n",
      "(15854, 23640, -59.50515559703218, 40.35354685208753)\n",
      "(23640, 50398, 40.35354685208753, -57.88156463066682)\n"
     ]
    }
   ],
   "source": [
    "print(max_swing(bars, upswing=False, hard_left=True, hard_right=True))\n",
    "print(max_swing(bars))\n",
    "print(max_swing(large_bars))\n",
    "print(max_swing(large_bars, upswing=False, hard_left=True, hard_right=True))\n",
    "print(max_swing(hefty_bars))\n",
    "print(max_swing(hefty_bars, upswing=False, hard_left=True, hard_right=True))"
   ]
  },
  {
   "cell_type": "code",
   "execution_count": 5,
   "metadata": {},
   "outputs": [
    {
     "name": "stdout",
     "output_type": "stream",
     "text": [
      "406 µs ± 28.4 µs per loop (mean ± std. dev. of 7 runs, 1000 loops each)\n"
     ]
    }
   ],
   "source": [
    "#Small dataset 9 elements\n",
    "%timeit max_swing(bars, upswing=False, hard_left=True, hard_right=True)"
   ]
  },
  {
   "cell_type": "code",
   "execution_count": 6,
   "metadata": {},
   "outputs": [
    {
     "name": "stdout",
     "output_type": "stream",
     "text": [
      "430 µs ± 58.3 µs per loop (mean ± std. dev. of 7 runs, 1000 loops each)\n"
     ]
    }
   ],
   "source": [
    "#Large dataset 100 elements\n",
    "%timeit max_swing(large_bars, upswing=False, hard_left=True, hard_right=True)"
   ]
  },
  {
   "cell_type": "code",
   "execution_count": 7,
   "metadata": {},
   "outputs": [
    {
     "name": "stdout",
     "output_type": "stream",
     "text": [
      "1.06 ms ± 31.3 µs per loop (mean ± std. dev. of 7 runs, 1000 loops each)\n"
     ]
    }
   ],
   "source": [
    "#hefty dataset 100_000 elements\n",
    "%timeit max_swing(hefty_bars, upswing=False, hard_left=True, hard_right=True)"
   ]
  },
  {
   "cell_type": "markdown",
   "metadata": {},
   "source": [
    "Now, version using np.ndarrays directly:"
   ]
  },
  {
   "cell_type": "code",
   "execution_count": 8,
   "metadata": {},
   "outputs": [],
   "source": [
    "\n",
    "from numpy import minimum, maximum, argmin, argmax, add\n",
    "\n",
    "def max_swing_array(bars, upswing=True, hard_left=True, hard_right=True):\n",
    "    \n",
    "    if len(bars) <= 2 + hard_left + hard_right:\n",
    "        return None, None\n",
    " \n",
    "    if upswing:\n",
    "        mins = minimum.accumulate(bars[:,1]) # bars['low'] is bars[:,1]\n",
    "        \n",
    "        swing_end = (bars[:,0] - mins).argmax() # bars['high'] is bars[:,0]\n",
    "        if swing_end == 0:\n",
    "            return None, None, None, None\n",
    "        swing_start = (mins[:swing_end]).argmin()\n",
    "        \n",
    "        start_value = mins[swing_start]\n",
    "        end_value = bars[swing_end, 0] # bars.at[swing_end, 'high']\n",
    "        \n",
    "    else:\n",
    "        maxs = maximum.accumulate(bars[:,0]) #bars['high']\n",
    "        \n",
    "        swing_end = (maxs - bars[:,1]).argmax() #bars['low']\n",
    "        if swing_end == 0:\n",
    "            return None, None, None, None\n",
    "        swing_start = (maxs[:swing_end]).argmax()\n",
    "        \n",
    "        start_value = maxs[swing_start]\n",
    "        end_value = bars[swing_end, 1] #bars.at[swing_end, 'low']\n",
    "    \n",
    "    #now get rid of duplicate indexes, this should not do any harm\n",
    "    if hard_left and swing_start == 0:\n",
    "        swing_start = 1\n",
    "        \n",
    "    if hard_right and swing_end == len(bars)-1:\n",
    "        swing_end = len(bars)-2\n",
    "    \n",
    "    return swing_start, swing_end, start_value, end_value #now instead of indexes, we got offsets!"
   ]
  },
  {
   "cell_type": "code",
   "execution_count": 9,
   "metadata": {},
   "outputs": [
    {
     "name": "stdout",
     "output_type": "stream",
     "text": [
      "(1, 7, 11, 4)\n",
      "(1, 4, 5, 11)\n",
      "(49, 55, -0.7038047803869438, -0.6049868234352309)\n",
      "(3, 85, 0.6559068512657203, -1.2117654367552042)\n",
      "(15854, 23640, -59.50515559703218, 40.35354685208753)\n",
      "(23640, 50398, 40.35354685208753, -57.88156463066682)\n"
     ]
    }
   ],
   "source": [
    "print(max_swing_array(bars.values, upswing=False, hard_left=True, hard_right=True))\n",
    "print(max_swing_array(bars.values))\n",
    "print(max_swing_array(large_bars.values))\n",
    "print(max_swing_array(large_bars.values, upswing=False, hard_left=True, hard_right=True))\n",
    "print(max_swing_array(hefty_bars.values))\n",
    "print(max_swing_array(hefty_bars.values, upswing=False, hard_left=True, hard_right=True))"
   ]
  },
  {
   "cell_type": "code",
   "execution_count": 10,
   "metadata": {},
   "outputs": [
    {
     "name": "stdout",
     "output_type": "stream",
     "text": [
      "8.8 µs ± 99 ns per loop (mean ± std. dev. of 7 runs, 100000 loops each)\n"
     ]
    }
   ],
   "source": [
    "#9 bars\n",
    "%timeit max_swing_array(bars.values, upswing=False, hard_left=True, hard_right=True)"
   ]
  },
  {
   "cell_type": "code",
   "execution_count": 11,
   "metadata": {},
   "outputs": [
    {
     "name": "stdout",
     "output_type": "stream",
     "text": [
      "9.12 µs ± 63.1 ns per loop (mean ± std. dev. of 7 runs, 100000 loops each)\n"
     ]
    }
   ],
   "source": [
    "#100 bars\n",
    "%timeit max_swing_array(large_bars.values, upswing=False, hard_left=True, hard_right=True)"
   ]
  },
  {
   "cell_type": "code",
   "execution_count": 12,
   "metadata": {},
   "outputs": [
    {
     "name": "stdout",
     "output_type": "stream",
     "text": [
      "361 µs ± 4.31 µs per loop (mean ± std. dev. of 7 runs, 1000 loops each)\n"
     ]
    }
   ],
   "source": [
    "#100_000 bars\n",
    "%timeit max_swing_array(hefty_bars.values, upswing=False, hard_left=True, hard_right=True)"
   ]
  },
  {
   "cell_type": "markdown",
   "metadata": {},
   "source": [
    "Now, refactor to use numba:"
   ]
  },
  {
   "cell_type": "code",
   "execution_count": 13,
   "metadata": {},
   "outputs": [
    {
     "data": {
      "text/html": [
       "<div>\n",
       "<style scoped>\n",
       "    .dataframe tbody tr th:only-of-type {\n",
       "        vertical-align: middle;\n",
       "    }\n",
       "\n",
       "    .dataframe tbody tr th {\n",
       "        vertical-align: top;\n",
       "    }\n",
       "\n",
       "    .dataframe thead th {\n",
       "        text-align: right;\n",
       "    }\n",
       "</style>\n",
       "<table border=\"1\" class=\"dataframe\">\n",
       "  <thead>\n",
       "    <tr style=\"text-align: right;\">\n",
       "      <th></th>\n",
       "      <th>high</th>\n",
       "      <th>low</th>\n",
       "    </tr>\n",
       "  </thead>\n",
       "  <tbody>\n",
       "    <tr>\n",
       "      <th>0</th>\n",
       "      <td>11</td>\n",
       "      <td>6</td>\n",
       "    </tr>\n",
       "    <tr>\n",
       "      <th>1</th>\n",
       "      <td>10</td>\n",
       "      <td>5</td>\n",
       "    </tr>\n",
       "    <tr>\n",
       "      <th>2</th>\n",
       "      <td>9</td>\n",
       "      <td>8</td>\n",
       "    </tr>\n",
       "    <tr>\n",
       "      <th>3</th>\n",
       "      <td>8</td>\n",
       "      <td>7</td>\n",
       "    </tr>\n",
       "    <tr>\n",
       "      <th>4</th>\n",
       "      <td>11</td>\n",
       "      <td>6</td>\n",
       "    </tr>\n",
       "  </tbody>\n",
       "</table>\n",
       "</div>"
      ],
      "text/plain": [
       "   high  low\n",
       "0    11    6\n",
       "1    10    5\n",
       "2     9    8\n",
       "3     8    7\n",
       "4    11    6"
      ]
     },
     "execution_count": 13,
     "metadata": {},
     "output_type": "execute_result"
    }
   ],
   "source": [
    "bars.head()"
   ]
  },
  {
   "cell_type": "code",
   "execution_count": 14,
   "metadata": {
    "pixiedust": {
     "displayParams": {}
    }
   },
   "outputs": [],
   "source": [
    "from numpy import minimum, maximum, argmin, argmax, add\n",
    "from numba import jit, njit\n",
    "\n",
    "@njit(fastmath=True)\n",
    "def max_swing_numba(bars, upswing=True, hard_left=True, hard_right=True):\n",
    "    \n",
    "    if len(bars) <= 2 + hard_left + hard_right:\n",
    "        return 0, 0, 0, 0\n",
    " \n",
    "    current_min = np.inf\n",
    "    current_max = -np.inf\n",
    "    current_min_index = 0\n",
    "    current_max_index = 0\n",
    "    \n",
    "    global_min = np.inf\n",
    "    global_max = -np.inf\n",
    "    global_max_index = 0\n",
    "    global_min_index = 0\n",
    "    \n",
    "    length = 0\n",
    "    \n",
    "    if upswing:\n",
    "        for i in range(len(bars)):\n",
    "            if current_max < bars[i,0]: #bars[i,0] stores highs\n",
    "                current_max = bars[i,0]\n",
    "                current_max_index = i\n",
    "            \n",
    "            if current_min > bars[i,1] or i== len(bars)-1: #stores lows\n",
    "                if current_max - current_min > length: # assign new max values\n",
    "                    length = current_max - current_min\n",
    "                    global_max = current_max\n",
    "                    global_min = current_min\n",
    "                    length = global_max - global_min\n",
    "                    global_max_index = current_max_index\n",
    "                    global_min_index = current_min_index\n",
    "                    \n",
    "                current_min_index = i\n",
    "                current_min = bars[i,1]\n",
    "                current_max = bars[i,0]\n",
    "                \n",
    "        swing_start = global_min_index\n",
    "        swing_end = global_max_index    \n",
    "        start_value = global_min\n",
    "        end_value = global_max   \n",
    "        \n",
    "    else:\n",
    "        for i in range(len(bars)):\n",
    "            if current_min > bars[i,1]: #bars[i,1] stores lows\n",
    "                current_min = bars[i,1]\n",
    "                current_min_index = i\n",
    "                \n",
    "            if current_max < bars[i,0] or i == len(bars)-1: #stores highs\n",
    "                if current_max - current_min > length: # assign new max values\n",
    "                    global_max = current_max\n",
    "                    global_min = current_min\n",
    "                    length = global_max - global_min\n",
    "                    global_max_index = current_max_index\n",
    "                    global_min_index = current_min_index\n",
    "                    \n",
    "                current_max_index = i\n",
    "                current_max = bars[i,0]\n",
    "                current_min = bars[i,1]\n",
    "                \n",
    "        swing_start = global_max_index\n",
    "        swing_end = global_min_index\n",
    "        start_value = global_max\n",
    "        end_value = global_min\n",
    "    #now get rid of duplicate indexes, this should not do any harm\n",
    "    \n",
    "    if hard_left and swing_start == 0:\n",
    "        swing_start = 1\n",
    "        \n",
    "    if hard_right and swing_end == len(bars)-1:\n",
    "        swing_end = len(bars)-2\n",
    "    \n",
    "    return swing_start, swing_end, start_value, end_value #now instead of indexes, we got offsets!\n",
    "\n"
   ]
  },
  {
   "cell_type": "code",
   "execution_count": 15,
   "metadata": {},
   "outputs": [
    {
     "name": "stdout",
     "output_type": "stream",
     "text": [
      "(1, 7, 11.0, 4.0)\n",
      "(1, 4, 5.0, 11.0)\n",
      "(49, 55, -0.7038047803869438, -0.6049868234352309)\n",
      "(3, 85, 0.6559068512657203, -1.2117654367552042)\n",
      "(15854, 23640, -59.50515559703218, 40.35354685208753)\n",
      "(23640, 50398, 40.35354685208753, -57.88156463066682)\n"
     ]
    }
   ],
   "source": [
    "print(max_swing_numba(bars.values, upswing=False, hard_left=True, hard_right=True))\n",
    "print(max_swing_numba(bars.values))\n",
    "print(max_swing_numba(large_bars.values))\n",
    "print(max_swing_numba(large_bars.values, upswing=False, hard_left=True, hard_right=True))\n",
    "print(max_swing_numba(hefty_bars.values))\n",
    "print(max_swing_numba(hefty_bars.values, upswing=False, hard_left=True, hard_right=True))"
   ]
  },
  {
   "cell_type": "code",
   "execution_count": 16,
   "metadata": {},
   "outputs": [],
   "source": [
    "#need to access np.ndarrays directly, so that the jit compiler\n",
    "tmp = bars.values\n",
    "tmp2 = large_bars.values\n",
    "tmp3 = hefty_bars.values"
   ]
  },
  {
   "cell_type": "code",
   "execution_count": 17,
   "metadata": {},
   "outputs": [
    {
     "name": "stdout",
     "output_type": "stream",
     "text": [
      "599 ns ± 1.55 ns per loop (mean ± std. dev. of 7 runs, 1000000 loops each)\n"
     ]
    }
   ],
   "source": [
    "#9 bars\n",
    "max_swing_numba(tmp, upswing=False, hard_left=True, hard_right=True)\n",
    "%timeit max_swing_numba(tmp, upswing=False, hard_left=True, hard_right=True)"
   ]
  },
  {
   "cell_type": "code",
   "execution_count": 18,
   "metadata": {},
   "outputs": [
    {
     "name": "stdout",
     "output_type": "stream",
     "text": [
      "809 ns ± 2.92 ns per loop (mean ± std. dev. of 7 runs, 1000000 loops each)\n"
     ]
    }
   ],
   "source": [
    "#100 bars\n",
    "max_swing_numba(tmp2, upswing=False, hard_left=True, hard_right=True)\n",
    "%timeit max_swing_numba(tmp2, upswing=False, hard_left=True, hard_right=True)"
   ]
  },
  {
   "cell_type": "code",
   "execution_count": 19,
   "metadata": {},
   "outputs": [
    {
     "name": "stdout",
     "output_type": "stream",
     "text": [
      "218 µs ± 403 ns per loop (mean ± std. dev. of 7 runs, 1000 loops each)\n"
     ]
    }
   ],
   "source": [
    "#100_000bars\n",
    "max_swing_numba(tmp3, upswing=False, hard_left=True, hard_right=True)\n",
    "%timeit max_swing_numba(tmp3, upswing=False, hard_left=True, hard_right=True)"
   ]
  },
  {
   "cell_type": "markdown",
   "metadata": {},
   "source": [
    "Looks like numba provides  least overhead...\n",
    "Now lets try loop with numba njit parallel optimization (this will only work for max_swing_numba, as it is compiled to native code, @jit will actually slown down the loops):"
   ]
  },
  {
   "cell_type": "code",
   "execution_count": 20,
   "metadata": {},
   "outputs": [],
   "source": [
    "#@jit\n",
    "def max_swing_loop():\n",
    "    table = []\n",
    "    for i in range(100000):\n",
    "        table.append(max_swing(bars))\n",
    "    return table"
   ]
  },
  {
   "cell_type": "code",
   "execution_count": 21,
   "metadata": {},
   "outputs": [],
   "source": [
    "#@jit\n",
    "def max_swing_array_loop():\n",
    "    table = []\n",
    "    for i in range(100000):\n",
    "        table.append(max_swing_array(bars.values))  \n",
    "    return table"
   ]
  },
  {
   "cell_type": "code",
   "execution_count": 22,
   "metadata": {},
   "outputs": [],
   "source": [
    "from numba import prange\n",
    "@njit\n",
    "\n",
    "def max_swing_numba_loop():\n",
    "    table = []\n",
    "    for i in range(100000):\n",
    "        table.append(max_swing_numba(tmp))\n",
    "    return table"
   ]
  },
  {
   "cell_type": "code",
   "execution_count": 23,
   "metadata": {},
   "outputs": [],
   "source": [
    "from numba import prange\n",
    "@njit(parallel=True)\n",
    "\n",
    "def max_swing_numba_loop_parallel():\n",
    "    start = np.zeros((100000,1))\n",
    "    end = np.zeros((100000,1))\n",
    "    value_start = np.zeros((100000,1))\n",
    "    value_end = np.zeros((100000,1))\n",
    "    for i in prange(100000):\n",
    "        start[i], end[i], value_start[i], value_end[i] = max_swing_numba(tmp)\n",
    "    return start, end, value_start, value_end"
   ]
  },
  {
   "cell_type": "code",
   "execution_count": 24,
   "metadata": {},
   "outputs": [
    {
     "name": "stdout",
     "output_type": "stream",
     "text": [
      "38.9 s ± 546 ms per loop (mean ± std. dev. of 7 runs, 1 loop each)\n"
     ]
    }
   ],
   "source": [
    "%timeit max_swing_loop()"
   ]
  },
  {
   "cell_type": "code",
   "execution_count": 25,
   "metadata": {},
   "outputs": [
    {
     "name": "stdout",
     "output_type": "stream",
     "text": [
      "880 ms ± 2.05 ms per loop (mean ± std. dev. of 7 runs, 1 loop each)\n"
     ]
    }
   ],
   "source": [
    "%timeit max_swing_array_loop()"
   ]
  },
  {
   "cell_type": "code",
   "execution_count": 26,
   "metadata": {},
   "outputs": [
    {
     "name": "stdout",
     "output_type": "stream",
     "text": [
      "16.6 ms ± 193 µs per loop (mean ± std. dev. of 7 runs, 1 loop each)\n"
     ]
    }
   ],
   "source": [
    "%timeit max_swing_numba_loop()"
   ]
  },
  {
   "cell_type": "code",
   "execution_count": 27,
   "metadata": {},
   "outputs": [
    {
     "name": "stdout",
     "output_type": "stream",
     "text": [
      "932 µs ± 221 µs per loop (mean ± std. dev. of 7 runs, 1 loop each)\n"
     ]
    }
   ],
   "source": [
    "%timeit max_swing_numba_loop_parallel()"
   ]
  },
  {
   "cell_type": "code",
   "execution_count": 28,
   "metadata": {},
   "outputs": [],
   "source": [
    "start, end, value_start, value_end = max_swing_numba_loop_parallel()"
   ]
  },
  {
   "cell_type": "code",
   "execution_count": 29,
   "metadata": {},
   "outputs": [
    {
     "name": "stdout",
     "output_type": "stream",
     "text": [
      "[1.] [4.] [5.] [11.]\n"
     ]
    }
   ],
   "source": [
    "print(start[0], end[0], value_start[0], value_end[0])"
   ]
  },
  {
   "cell_type": "code",
   "execution_count": 30,
   "metadata": {},
   "outputs": [
    {
     "data": {
      "text/plain": [
       "417381.974248927"
      ]
     },
     "execution_count": 30,
     "metadata": {},
     "output_type": "execute_result"
    }
   ],
   "source": [
    "38.9 * 10e6 / 932"
   ]
  },
  {
   "cell_type": "markdown",
   "metadata": {},
   "source": [
    "Narzut zabijał ten algorytm."
   ]
  }
 ],
 "metadata": {
  "kernelspec": {
   "display_name": "Python 3",
   "language": "python",
   "name": "python3"
  },
  "language_info": {
   "codemirror_mode": {
    "name": "ipython",
    "version": 3
   },
   "file_extension": ".py",
   "mimetype": "text/x-python",
   "name": "python",
   "nbconvert_exporter": "python",
   "pygments_lexer": "ipython3",
   "version": "3.6.6"
  },
  "varInspector": {
   "cols": {
    "lenName": 16,
    "lenType": 16,
    "lenVar": 40
   },
   "kernels_config": {
    "python": {
     "delete_cmd_postfix": "",
     "delete_cmd_prefix": "del ",
     "library": "var_list.py",
     "varRefreshCmd": "print(var_dic_list())"
    },
    "r": {
     "delete_cmd_postfix": ") ",
     "delete_cmd_prefix": "rm(",
     "library": "var_list.r",
     "varRefreshCmd": "cat(var_dic_list()) "
    }
   },
   "position": {
    "height": "209.4px",
    "left": "995.867px",
    "right": "20px",
    "top": "120px",
    "width": "350px"
   },
   "types_to_exclude": [
    "module",
    "function",
    "builtin_function_or_method",
    "instance",
    "_Feature"
   ],
   "window_display": false
  }
 },
 "nbformat": 4,
 "nbformat_minor": 2
}
